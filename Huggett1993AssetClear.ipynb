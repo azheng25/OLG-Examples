{
 "cells": [
  {
   "cell_type": "markdown",
   "metadata": {},
   "source": [
    "# This notebook solves the Huggett Model (1993) using Dolo."
   ]
  },
  {
   "cell_type": "markdown",
   "metadata": {},
   "source": [
    "This is a heterogeneous-agent model where each period agents are hit with idiosyncratic income shocks $y_t$ that follow an $AR1$ process. There are incomplete markets and agents only have access to a risk-free asset $s_t$ that pays $(1+r)s_t$ next period, where $r$ is the interest rate.\n",
    "\n",
    "The value function for an agent with current assets $s$ and current income $y$ is: $v(y,s)=\\max_{c,s'} u(c)+\\beta \\mathbf{E}v(y',s')$ where the expectation is taken over the value of the income shock.\n",
    "\n",
    "The agent's budget constraint is: $c+s'=(1+r)s+y$ where s' is his asset choice next period. The agent will also be subject to a borrowing constraint: $s'\\geq \\bar{s}$.\n",
    "\n",
    "Here, we define the control in the model as $a=s'-s$, i.e. $a$ is the change in assets.\n"
   ]
  },
  {
   "cell_type": "code",
   "execution_count": 1,
   "metadata": {},
   "outputs": [
    {
     "name": "stderr",
     "output_type": "stream",
     "text": [
      "\u001b[1m\u001b[31mWARNING: Using Calculus.jl for symbolic differentiation. This will be slower than SymEngine.jl\n",
      ". To use SymEngine run the following code: `Pkg.add(\"SymEngine\")`\u001b[0m\n",
      "WARNING: Method definition discretize(Dolo.DiscreteMarkovProcess) in module Dolo at C:\\Users\\Angela\\AppData\\Local\\JuliaPro-0.5.2.2\\pkgs-0.5.2.2\\v0.5\\Dolo\\src\\numeric/processes.jl:37 overwritten at C:\\Users\\Angela\\AppData\\Local\\JuliaPro-0.5.2.2\\pkgs-0.5.2.2\\v0.5\\Dolo\\src\\numeric/processes.jl:157.\n"
     ]
    }
   ],
   "source": [
    "# First import the packages\n",
    "Pkg.dir(\"Dolo\")\n",
    "import Dolo\n",
    "using AxisArrays\n",
    "using PyPlot"
   ]
  },
  {
   "cell_type": "code",
   "execution_count": 2,
   "metadata": {},
   "outputs": [
    {
     "data": {
      "text/plain": [
       "\"huggett_1993.yaml\""
      ]
     },
     "execution_count": 2,
     "metadata": {},
     "output_type": "execute_result"
    }
   ],
   "source": [
    "# get the model file\n",
    "filename=(\"huggett_1993.yaml\")"
   ]
  },
  {
   "cell_type": "code",
   "execution_count": 3,
   "metadata": {},
   "outputs": [
    {
     "data": {
      "text/html": [
       "     <table>\n",
       "         <td><b>Model</b></td>\n",
       "     <tr>\n",
       "        <td>name</td>\n",
       "        <td>Huggett 1993</td>\n",
       "      </tr>\n",
       "      <tr>\n",
       "        <td>filename</td>\n",
       "        <td>huggett_1993.yaml</td>\n",
       "      </tr>\n",
       "    </table>\n",
       "<table width=\"100%\"><tr><td><b>Type</b></td><td><b>Equation</b></td></tr>\n",
       "<tr><td>value</td><td>\\[V_{t} = \\frac{\\left(c_{t}\\right)^{\\left(1-\\sigma\\right)}}{\\left(1-\\sigma\\right)}+\\beta V_{t+1}\\]</td></tr><tr><td>expectation</td><td>\\[m_{t} = \\frac{\\beta}{\\left(c_{t+1}\\right)^{\\sigma}} 1+r\\]</td></tr><tr><td>felicity</td><td>\\[u_{t} = \\frac{\\left(c_{t}\\right)^{\\left(1-\\sigma\\right)}}{\\left(1-\\sigma\\right)}\\]</td></tr><tr><td>transition</td><td>\\[s_{t} = a_{t-1}+s_{t-1}\\]</td></tr><tr><td>arbitrage</td><td>\\[\\left(1-\\beta \\left(\\frac{c_{t}}{c_{t+1}}\\right)^{\\sigma} 1+r\\right)\\]</td></tr><table>"
      ],
      "text/plain": []
     },
     "execution_count": 3,
     "metadata": {},
     "output_type": "execute_result"
    },
    {
     "name": "stdout",
     "output_type": "stream",
     "text": [
      "Model\n"
     ]
    }
   ],
   "source": [
    "# Convert the file into Dolo model\n",
    "model=Dolo.yaml_import(filename)"
   ]
  },
  {
   "cell_type": "markdown",
   "metadata": {},
   "source": [
    "Create a function to loop over guesses of the interest rate until the asset market clears."
   ]
  },
  {
   "cell_type": "code",
   "execution_count": 8,
   "metadata": {},
   "outputs": [
    {
     "name": "stderr",
     "output_type": "stream",
     "text": [
      "WARNING: Method definition "
     ]
    },
    {
     "data": {
      "text/plain": [
       "solve_r (generic function with 3 methods)"
      ]
     },
     "execution_count": 8,
     "metadata": {},
     "output_type": "execute_result"
    },
    {
     "name": "stderr",
     "output_type": "stream",
     "text": [
      "solve_r(Any, Any) in module Main at In[5]:2 overwritten at In[8]:2.\n"
     ]
    }
   ],
   "source": [
    "function solve_r(r_val, dr_guess; N=500, T=500)\n",
    "    mc_ar=model.exogenous\n",
    "    sol=Dolo.time_iteration(model,dr_guess; verbose=false)\n",
    "    dr=sol.dr\n",
    "    sim_armc = Dolo.simulate(model,dr;N=500,T=500)\n",
    "    r=model.calibration.flat[:r]\n",
    "    assets_end=zeros(N)\n",
    "    for ii=1:N # number of simulations\n",
    "      c=exp(sim_armc[Axis{:N}(ii), Axis{:V}(:lny)])[T]+sim_armc[Axis{:N}(ii), Axis{:V}(:s)][T]*r-sim_armc[Axis{:N}(ii), Axis{:V}(:a)][T]\n",
    "      assets_end[ii]=exp(sim_armc[Axis{:N}(ii), Axis{:V}(:lny)])[T]-c[end]\n",
    "    end\n",
    "    \n",
    "    model_resid=mean(assets_end)\n",
    "    return model_resid, dr\n",
    "end"
   ]
  },
  {
   "cell_type": "code",
   "execution_count": 9,
   "metadata": {},
   "outputs": [
    {
     "name": "stderr",
     "output_type": "stream",
     "text": [
      "WARNING: Method definition "
     ]
    },
    {
     "data": {
      "text/plain": [
       "asset_clear (generic function with 1 method)"
      ]
     },
     "execution_count": 9,
     "metadata": {},
     "output_type": "execute_result"
    },
    {
     "name": "stderr",
     "output_type": "stream",
     "text": [
      "asset_clear(Any) in module Main at In[6]:2 overwritten at In[9]:2.\n"
     ]
    }
   ],
   "source": [
    "function asset_clear(model)\n",
    "    r_grid=linspace(0.0001, 0.06,80)\n",
    "    resid_vec=similar(r_grid)\n",
    "    it=1\n",
    "    tol=0.0001\n",
    "    dr_guess=Dolo.ConstantDecisionRule(model.calibration[:controls])\n",
    "    max_it=length(r_grid)\n",
    "        while it<max_it\n",
    "            r_val=r_grid[it]\n",
    "            model_resid, dr=solve_r(r_val, dr_guess) \n",
    "            resid_vec[it]=model_resid\n",
    "\n",
    "            if abs(model_resid)<tol\n",
    "                println(model_resid)\n",
    "                println(\"Market Clearing with r \", r_val)\n",
    "                break\n",
    "            else\n",
    "                println(\"With r \", r_val, \" the level of assets is \", model_resid)\n",
    "                it=it+1\n",
    "            end\n",
    "        end\n",
    "    \n",
    "end\n",
    "\n"
   ]
  },
  {
   "cell_type": "code",
   "execution_count": null,
   "metadata": {},
   "outputs": [
    {
     "name": "stdout",
     "output_type": "stream",
     "text": [
      "With r 0.0001 the level of assets is 0.059601682387805825\n",
      "With r 0.0008582278481012658 the level of assets is -0.018528282176709338\n",
      "With r 0.0016164556962025315 the level of assets is -0.0411573238745795\n",
      "With r 0.0023746835443037976 the level of assets is 0.027181264528867558\n",
      "With r 0.0031329113924050632 the level of assets is 0.021429815330591052\n",
      "With r 0.0038911392405063293 the level of assets is 0.05416760401452169\n",
      "With r 0.004649367088607595 the level of assets is 0.056296824866205554\n",
      "With r 0.005407594936708861 the level of assets is 0.013105474458677173\n",
      "With r 0.006165822784810126 the level of assets is -0.016012112198341467\n",
      "With r 0.006924050632911393 the level of assets is 0.031409694531183405\n",
      "With r 0.007682278481012658 the level of assets is -0.040280956061266464\n",
      "With r 0.008440506329113924 the level of assets is -0.026187710722748853\n",
      "With r 0.00919873417721519 the level of assets is 0.05246990780411622\n",
      "With r 0.009956962025316455 the level of assets is -0.021473550332505257\n",
      "With r 0.010715189873417722 the level of assets is 0.06017428212512723\n",
      "With r 0.011473417721518987 the level of assets is -0.036219592408328664\n",
      "With r 0.012231645569620253 the level of assets is -0.037644418097266166\n",
      "With r 0.01298987341772152 the level of assets is -0.04337936708603828\n",
      "With r 0.013748101265822784 the level of assets is 0.032111569147131674\n",
      "With r 0.01450632911392405 the level of assets is -0.014021825052116195\n",
      "With r 0.015264556962025316 the level of assets is 0.037791772183850963\n",
      "With r 0.016022784810126582 the level of assets is -0.03615444435742485\n",
      "With r 0.01678101265822785 the level of assets is -0.03676731048457507\n",
      "With r 0.017539240506329115 the level of assets is 0.02560780262610767\n",
      "With r 0.018297468354430378 the level of assets is 0.008422990265984726\n",
      "With r 0.019055696202531645 the level of assets is -0.02905787476098246\n",
      "With r 0.01981392405063291 the level of assets is -0.10712053662234215\n",
      "With r 0.020572151898734178 the level of assets is -0.028355791833665663\n"
     ]
    }
   ],
   "source": [
    "asset_clear(model)"
   ]
  },
  {
   "cell_type": "code",
   "execution_count": 1,
   "metadata": {},
   "outputs": [
    {
     "data": {
      "image/png": "[encoded data removed]",
      "text/plain": [
       "PyPlot.Figure(PyObject <matplotlib.figure.Figure object at 0x000000001DE846A0>)"
      ]
     },
     "metadata": {},
     "output_type": "display_data"
    },
    {
     "data": {
      "text/plain": [
       "1-element Array{Any,1}:\n",
       " PyObject <matplotlib.lines.Line2D object at 0x000000001E797240>"
      ]
     },
     "execution_count": 1,
     "metadata": {},
     "output_type": "execute_result"
    }
   ],
   "source": [
    "import PyPlot\n",
    "plt=PyPlot\n",
    "rvec=[0.0001, 0.00085, 0.00161, 0.00237, 0.00313,0.00389, 0.00468, 0.00540]\n",
    "asset_demand=[0.0596, -0.01852, -0.04115, 0.0272, 0.0214, 0.0542, 0.0563, 0.0131]\n",
    "\n",
    "\n",
    "plt.plot(rvec, asset_demand, color=\"blue\")"
   ]
  },
  {
   "cell_type": "code",
   "execution_count": null,
   "metadata": {
    "collapsed": true
   },
   "outputs": [],
   "source": [
    "@time sol=Dolo.time_iteration(model,verbose=true, maxit=1000)\n",
    "dr=sol.dr\n",
    "@time res = Dolo.time_iteration(model, dr; maxit=200)"
   ]
  },
  {
   "cell_type": "markdown",
   "metadata": {},
   "source": [
    "Dolo tabulate gives us the decision rules."
   ]
  },
  {
   "cell_type": "code",
   "execution_count": null,
   "metadata": {
    "collapsed": true
   },
   "outputs": [],
   "source": [
    "drtab = Dolo.tabulate(model, dr, :s) "
   ]
  },
  {
   "cell_type": "markdown",
   "metadata": {},
   "source": [
    "Now we plot the consumption policy function. We see that it is concave because of the precautionary savings motive noting as well that there is more curvature closer to the borrowing constraint."
   ]
  },
  {
   "cell_type": "code",
   "execution_count": null,
   "metadata": {
    "collapsed": true
   },
   "outputs": [],
   "source": [
    "# Plot the consumption policy function\n",
    "import PyPlot\n",
    "plt=PyPlot\n",
    "r=model.calibration.flat[:r]\n",
    "print(r)\n",
    "c=exp(drtab[Axis{:V}(:lny)])+drtab[:s]*r-drtab[Axis{:V}(:a)]\n",
    "\n",
    "plt.plot(drtab[Axis{:V}(:s)],c, color=\"blue\")\n",
    "plt.xlabel(\"Savings\")\n",
    "plt.ylabel(\"Consumption\")\n",
    "plt.title(\"Consumption Policy Function\")"
   ]
  },
  {
   "cell_type": "markdown",
   "metadata": {},
   "source": [
    "### Simulations"
   ]
  },
  {
   "cell_type": "markdown",
   "metadata": {},
   "source": [
    "Here we run simulations for N agents and look at the asset distribution."
   ]
  },
  {
   "cell_type": "code",
   "execution_count": null,
   "metadata": {
    "collapsed": true
   },
   "outputs": [],
   "source": [
    "# Simulations\n",
    "import PyPlot\n",
    "plt=PyPlot\n",
    "\n",
    "\n",
    "mc_ar=model.exogenous\n",
    "\n",
    "sim_armc = Dolo.simulate(model,dr;N=1000,T=200)\n",
    "\n",
    "\n",
    "T=200"
   ]
  },
  {
   "cell_type": "code",
   "execution_count": null,
   "metadata": {
    "collapsed": true
   },
   "outputs": [],
   "source": [
    "N=1000\n",
    "n=200 # number of periods to plot\n",
    "hor=linspace(1,n,n)\n",
    "function plot_simulations(N::Int64,T::Int64,n::Int64,sim_armc)\n",
    "    assets_end=zeros(N)\n",
    "    for ii=1:N # number of simulations\n",
    "          \n",
    "        c=exp(sim_armc[Axis{:N}(ii), Axis{:V}(:lny)])[T-n+1:T]+sim_armc[Axis{:N}(ii), Axis{:V}(:s)][T-n+1:T]*r-sim_armc[Axis{:N}(ii), Axis{:V}(:a)][T-n+1:T]\n",
    "        assets_end[ii]=exp(sim_armc[Axis{:N}(ii), Axis{:V}(:lny)])[T]-c[end]\n",
    "\n",
    "        #assets_end[ii]=exp(sim_armc[Axis{:N}(ii), Axis{:V}(:lny)])[T]-c[end]\n",
    "    \n",
    "    end\n",
    "\n",
    "    return assets_end\n",
    "end\n",
    "\n",
    "\n"
   ]
  },
  {
   "cell_type": "code",
   "execution_count": null,
   "metadata": {
    "collapsed": true
   },
   "outputs": [],
   "source": [
    "assets_end=plot_simulations(N,T,n,sim_armc);"
   ]
  },
  {
   "cell_type": "markdown",
   "metadata": {},
   "source": [
    "We see that the average asset holdings is very close to zero so we have market clearing."
   ]
  },
  {
   "cell_type": "code",
   "execution_count": null,
   "metadata": {
    "collapsed": true
   },
   "outputs": [],
   "source": [
    "using Plots\n",
    "histogram(assets_end,nbins=80,xlims=(-2.0,4.0), ylims=(0.0,120.0), label=\"\", xlabel=\"Assets\", ylabel=\"Frequency\", title=\"Assets Distribution\")\n"
   ]
  },
  {
   "cell_type": "code",
   "execution_count": null,
   "metadata": {
    "collapsed": true
   },
   "outputs": [],
   "source": [
    "mean(assets_end)"
   ]
  }
 ],
 "metadata": {
  "kernelspec": {
   "display_name": "Julia 0.5.2",
   "language": "julia",
   "name": "julia-0.5"
  },
  "language_info": {
   "file_extension": ".jl",
   "mimetype": "application/julia",
   "name": "julia",
   "version": "0.5.2"
  }
 },
 "nbformat": 4,
 "nbformat_minor": 2
}
