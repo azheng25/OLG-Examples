{
 "cells": [
  {
   "cell_type": "markdown",
   "metadata": {},
   "source": [
    "# This notebook solves the Huggett Model (1993) using Dolo."
   ]
  },
  {
   "cell_type": "markdown",
   "metadata": {},
   "source": [
    "This is a heterogeneous-agent model where each period agents are hit with idiosyncratic income shocks $y_t$ that follow an $AR1$ process. There are incomplete markets and agents only have access to a risk-free asset $s_t$ that pays $(1+r)s_t$ next period, where $r$ is the interest rate.\n",
    "\n",
    "The value function for an agent with current assets $s$ and current income $y$ is: $v(y,s)=\\max_{c,s'} u(c)+\\beta \\mathbf{E}v(y',s')$ where the expectation is taken over the value of the income shock.\n",
    "\n",
    "The agent's budget constraint is: $c+s'=(1+r)s+y$ where s' is his asset choice next period. The agent will also be subject to a borrowing constraint: $s'\\geq \\bar{s}$.\n",
    "\n",
    "Here, we define the control in the model as $a=s'-s$, i.e. $a$ is the change in assets.\n"
   ]
  },
  {
   "cell_type": "code",
   "execution_count": 1,
   "metadata": {},
   "outputs": [
    {
     "name": "stderr",
     "output_type": "stream",
     "text": [
      "\u001b[1m\u001b[31mWARNING: Using Calculus.jl for symbolic differentiation. This will be slower than SymEngine.jl\n",
      ". To use SymEngine run the following code: `Pkg.add(\"SymEngine\")`\u001b[0m\n",
      "WARNING: Method definition discretize"
     ]
    }
   ],
   "source": [
    "# First import the packages\n",
    "Pkg.dir(\"Dolo\")\n",
    "import Dolo\n",
    "using AxisArrays\n",
    "using PyPlot"
   ]
  },
  {
   "cell_type": "code",
   "execution_count": 2,
   "metadata": {},
   "outputs": [
    {
     "name": "stderr",
     "output_type": "stream",
     "text": [
      "(Dolo.DiscreteMarkovProcess) in module Dolo at C:\\Users\\Angela\\AppData\\Local\\JuliaPro-0.5.2.2\\pkgs-0.5.2.2\\v0.5\\Dolo\\src\\numeric/processes.jl:37 overwritten at C:\\Users\\Angela\\AppData\\Local\\JuliaPro-0.5.2.2\\pkgs-0.5.2.2\\v0.5\\Dolo\\src\\numeric/processes.jl:157.\n"
     ]
    },
    {
     "data": {
      "text/plain": [
       "\"huggett_1993.yaml\""
      ]
     },
     "execution_count": 2,
     "metadata": {},
     "output_type": "execute_result"
    }
   ],
   "source": [
    "# get the model file\n",
    "filename=(\"huggett_1993.yaml\")"
   ]
  },
  {
   "cell_type": "code",
   "execution_count": 3,
   "metadata": {},
   "outputs": [
    {
     "data": {
      "text/html": [
       "     <table>\n",
       "         <td><b>Model</b></td>\n",
       "     <tr>\n",
       "        <td>name</td>\n",
       "        <td>Huggett 1993</td>\n",
       "      </tr>\n",
       "      <tr>\n",
       "        <td>filename</td>\n",
       "        <td>huggett_1993.yaml</td>\n",
       "      </tr>\n",
       "    </table>\n",
       "<table width=\"100%\"><tr><td><b>Type</b></td><td><b>Equation</b></td></tr>\n",
       "<tr><td>value</td><td>\\[V_{t} = \\frac{\\left(c_{t}\\right)^{\\left(1-\\sigma\\right)}}{\\left(1-\\sigma\\right)}+\\beta V_{t+1}\\]</td></tr><tr><td>expectation</td><td>\\[m_{t} = \\frac{\\beta}{\\left(c_{t+1}\\right)^{\\sigma}} 1+r\\]</td></tr><tr><td>felicity</td><td>\\[u_{t} = \\frac{\\left(c_{t}\\right)^{\\left(1-\\sigma\\right)}}{\\left(1-\\sigma\\right)}\\]</td></tr><tr><td>transition</td><td>\\[s_{t} = a_{t-1}+s_{t-1}\\]</td></tr><tr><td>arbitrage</td><td>\\[\\left(1-\\beta \\left(\\frac{c_{t}}{c_{t+1}}\\right)^{\\sigma} 1+r\\right)\\]</td></tr><table>"
      ],
      "text/plain": []
     },
     "execution_count": 3,
     "metadata": {},
     "output_type": "execute_result"
    }
   ],
   "source": [
    "# Convert the file into Dolo model\n",
    "model=Dolo.yaml_import(filename)"
   ]
  },
  {
   "cell_type": "markdown",
   "metadata": {},
   "source": [
    "Create a function to loop over guesses of the interest rate until the asset market clears."
   ]
  },
  {
   "cell_type": "code",
   "execution_count": 4,
   "metadata": {},
   "outputs": [
    {
     "name": "stdout",
     "output_type": "stream",
     "text": [
      "Model\n"
     ]
    },
    {
     "data": {
      "text/plain": [
       "solve_r (generic function with 2 methods)"
      ]
     },
     "execution_count": 4,
     "metadata": {},
     "output_type": "execute_result"
    }
   ],
   "source": [
    "function solve_r(r_val; mc_state=5, N=1000, T=1000)\n",
    "\n",
    "    dr_guess=Dolo.ConstantDecisionRule(model.calibration[:controls])\n",
    "    mc_ar = Dolo.discretize(Dolo.MarkovChain, model.exogenous; N=mc_state)\n",
    "    exog_proc=Dolo.simulate(mc_ar, N,T, mc_state)\n",
    "    \n",
    "    return solve_r(r_val, dr_guess, exog_proc )\n",
    "end   \n",
    "\n",
    "function solve_r(r_val, dr_guess; N=1000, T=1000)\n",
    "    \n",
    "    mc_ar = Dolo.discretize(Dolo.MarkovChain, model.exogenous; N=mc_state)\n",
    "    exog_proc=Dolo.simulate(mc_ar, N,T, mc_state)\n",
    "    \n",
    "    return solve_r(r_val, dr_guess, exog_proc)\n",
    "    \n",
    "    \n",
    "end\n"
   ]
  },
  {
   "cell_type": "code",
   "execution_count": 5,
   "metadata": {},
   "outputs": [
    {
     "data": {
      "text/plain": [
       "solve_r (generic function with 3 methods)"
      ]
     },
     "execution_count": 5,
     "metadata": {},
     "output_type": "execute_result"
    }
   ],
   "source": [
    "function solve_r(r_val, dr_guess, Index_mc, mc_ar; N=1000, T=1000)\n",
    "    Dolo.set_calibration!(model, r=r_val);    \n",
    "    # pass the markov chain to time_iteration\n",
    "    sol=Dolo.time_iteration(model, mc_ar,dr_guess; verbose=false)\n",
    "    dr=sol.dr\n",
    "    conv_bool=sol.x_converged\n",
    "    println(conv_bool)\n",
    "    sim_armc = Dolo.simulate(model,dr, Index_mc, mc_ar)\n",
    "    assets_end=zeros(N)\n",
    "    for ii=1:N # number of simulations\n",
    "      c=exp(sim_armc[Axis{:N}(ii), Axis{:V}(:lny)])[T]+sim_armc[Axis{:N}(ii), Axis{:V}(:s)][T]*r_val-sim_armc[Axis{:N}(ii), Axis{:V}(:a)][T]\n",
    "      #assets_end[ii]=exp(sim_armc[Axis{:N}(ii), Axis{:V}(:lny)])[T]-c[end]\n",
    "      assets_end[ii]=sim_armc[Axis{:N}(ii), Axis{:V}(:a)][T]\n",
    "    end\n",
    "    \n",
    "    model_resid=mean(assets_end)\n",
    "    return model_resid, dr\n",
    "end"
   ]
  },
  {
   "cell_type": "code",
   "execution_count": 6,
   "metadata": {},
   "outputs": [
    {
     "data": {
      "text/plain": [
       "asset_clear (generic function with 1 method)"
      ]
     },
     "execution_count": 6,
     "metadata": {},
     "output_type": "execute_result"
    }
   ],
   "source": [
    "function asset_clear(model)\n",
    "    r_grid=linspace(-0.01, 0.05,150)\n",
    "    resid_vec=zeros(length(r_grid))\n",
    "    it=1\n",
    "    tol=0.0001\n",
    "    dr_guess=Dolo.ConstantDecisionRule(model.calibration[:controls])\n",
    "    max_it=150\n",
    "    mc_ar = Dolo.discretize(Dolo.MarkovChain, model.exogenous; N=5)\n",
    "    Index_mc=Dolo.simulate(mc_ar, 1000, 1000, 5)\n",
    "        while it<max_it\n",
    "            r_val=r_grid[it]\n",
    "            model_resid, dr=solve_r(r_val, dr_guess, Index_mc, mc_ar) \n",
    "            resid_vec[it]=model_resid\n",
    "            dr_guess=dr\n",
    "\n",
    "            if abs(model_resid)<tol\n",
    "                println(model_resid)\n",
    "                println(\"Market Clearing with r \", r_val)\n",
    "                #break\n",
    "            else\n",
    "                println(\"With r \", r_val, \" the level of assets is \", model_resid)\n",
    "                \n",
    "            end\n",
    "            it=it+1\n",
    "        end\n",
    "    return resid_vec\n",
    "end\n",
    "\n"
   ]
  },
  {
   "cell_type": "code",
   "execution_count": 7,
   "metadata": {},
   "outputs": [
    {
     "name": "stdout",
     "output_type": "stream",
     "text": [
      "true\n",
      "With r -0.01 the level of assets is 0.0045799336799779026\n",
      "true\n",
      "With r -0.009597315436241611 the level of assets is 0.004613417333198067\n",
      "true\n",
      "With r -0.009194630872483222 the level of assets is 0.004646557111390716\n",
      "true\n",
      "With r -0.008791946308724832 the level of assets is 0.004679329969539967\n",
      "true\n",
      "With r -0.008389261744966443 the level of assets is 0.004711716481223484\n",
      "true\n",
      "With r -0.007986577181208054 the level of assets is 0.0047436955735517886\n",
      "true\n",
      "With r -0.007583892617449664 the level of assets is 0.0047752493957475325\n",
      "true\n",
      "With r -0.007181208053691275 the level of assets is 0.004806358584633653\n",
      "true\n",
      "With r -0.006778523489932886 the level of assets is 0.004837005413180966\n",
      "true\n",
      "With r -0.0063758389261744965 the level of assets is 0.004867172684038673\n",
      "true\n",
      "With r -0.005973154362416107 the level of assets is 0.004896841664255055\n",
      "true\n",
      "With r -0.005570469798657718 the level of assets is 0.004925992324224497\n",
      "true\n",
      "With r -0.0051677852348993285 the level of assets is 0.004954604121400787\n",
      "true\n",
      "With r -0.004765100671140939 the level of assets is 0.0049826555227268565\n",
      "true\n",
      "With r -0.00436241610738255 the level of assets is 0.005010127023093246\n",
      "true\n",
      "With r -0.0039597315436241615 the level of assets is 0.005036997765230775\n",
      "true\n",
      "With r -0.0035570469798657718 the level of assets is 0.00506324856271494\n",
      "true\n",
      "With r -0.0031543624161073825 the level of assets is 0.0050888586123954875\n",
      "true\n",
      "With r -0.002751677852348993 the level of assets is 0.005113809190916707\n",
      "true\n",
      "With r -0.002348993288590604 the level of assets is 0.005138080696487869\n",
      "true\n",
      "With r -0.0019463087248322148 the level of assets is 0.005171426838915803\n",
      "true\n",
      "With r -0.0015436241610738255 the level of assets is 0.005208789727053941\n",
      "true\n",
      "With r -0.0011409395973154361 the level of assets is 0.005245397070899577\n",
      "true\n",
      "With r -0.000738255033557047 the level of assets is 0.005281228733691514\n",
      "true\n",
      "With r -0.0003355704697986577 the level of assets is 0.005316264426924775\n",
      "true\n",
      "With r 6.711409395973154e-5 the level of assets is 0.005350487246592396\n",
      "true\n",
      "With r 0.0004697986577181208 the level of assets is 0.0053838801032113975\n",
      "true\n",
      "With r 0.00087248322147651 the level of assets is 0.005416431667451091\n",
      "true\n",
      "With r 0.0012751677852348992 the level of assets is 0.00544813589684497\n",
      "true\n",
      "With r 0.0016778523489932886 the level of assets is 0.005478990354694052\n",
      "true\n",
      "With r 0.0020805369127516776 the level of assets is 0.005508997166349117\n",
      "true\n",
      "With r 0.002483221476510067 the level of assets is 0.005538159161206598\n",
      "true\n",
      "With r 0.0028859060402684563 the level of assets is 0.005566486699164841\n",
      "true\n",
      "With r 0.0032885906040268456 the level of assets is 0.005593991049346668\n",
      "true\n",
      "With r 0.003691275167785235 the level of assets is 0.005620686102424963\n",
      "true\n",
      "With r 0.004093959731543624 the level of assets is 0.005646586182111625\n",
      "true\n",
      "With r 0.004496644295302013 the level of assets is 0.005671703496585184\n",
      "true\n",
      "With r 0.004899328859060402 the level of assets is 0.0056960443778216255\n",
      "true\n",
      "With r 0.005302013422818792 the level of assets is 0.005719613506996572\n",
      "true\n",
      "With r 0.005704697986577181 the level of assets is 0.005742413615825558\n",
      "true\n",
      "With r 0.00610738255033557 the level of assets is 0.005764444311291326\n",
      "true\n",
      "With r 0.0065100671140939596 the level of assets is 0.005785699718150418\n",
      "true\n",
      "With r 0.006912751677852349 the level of assets is 0.005806169900053515\n",
      "true\n",
      "With r 0.007315436241610738 the level of assets is 0.005825845228585288\n",
      "true\n",
      "With r 0.0077181208053691275 the level of assets is 0.005844715211273362\n",
      "true\n",
      "With r 0.008120805369127517 the level of assets is 0.005862767126251597\n",
      "true\n",
      "With r 0.008523489932885906 the level of assets is 0.005879993363631702\n",
      "true\n",
      "With r 0.008926174496644295 the level of assets is 0.005896385117078609\n",
      "true\n",
      "With r 0.009328859060402685 the level of assets is 0.005911926242433427\n",
      "true\n",
      "With r 0.009731543624161074 the level of assets is 0.005926586041849011\n",
      "true\n",
      "With r 0.010134228187919463 the level of assets is 0.005940319226093514\n",
      "true\n",
      "With r 0.010536912751677853 the level of assets is 0.0059530754165373805\n",
      "true\n",
      "With r 0.010939597315436242 the level of assets is 0.005964793049392067\n",
      "true\n",
      "With r 0.011342281879194631 the level of assets is 0.005975390668534809\n",
      "true\n",
      "With r 0.01174496644295302 the level of assets is 0.005984775134515484\n",
      "true\n",
      "With r 0.01214765100671141 the level of assets is 0.0059928507162205075\n",
      "true\n",
      "With r 0.0125503355704698 the level of assets is 0.005999528615247677\n",
      "true\n",
      "With r 0.012953020134228188 the level of assets is 0.006004725882366279\n",
      "true\n",
      "With r 0.013355704697986578 the level of assets is 0.006008371293096577\n",
      "true\n",
      "With r 0.013758389261744967 the level of assets is 0.006010391806865558\n",
      "true\n",
      "With r 0.014161073825503356 the level of assets is 0.0060107094641739\n",
      "true\n",
      "With r 0.014563758389261746 the level of assets is 0.006009238937626392\n",
      "true\n",
      "With r 0.014966442953020135 the level of assets is 0.006005891170036083\n",
      "true\n",
      "With r 0.015369127516778524 the level of assets is 0.006000591020474403\n",
      "true\n",
      "With r 0.015771812080536914 the level of assets is 0.005993267536953796\n",
      "true\n",
      "With r 0.0161744966442953 the level of assets is 0.00598385508685825\n",
      "true\n",
      "With r 0.016577181208053692 the level of assets is 0.005972292705716469\n",
      "true\n",
      "With r 0.01697986577181208 the level of assets is 0.005958542376283692\n",
      "true\n",
      "With r 0.01738255033557047 the level of assets is 0.0059425986668864466\n",
      "true\n",
      "With r 0.01778523489932886 the level of assets is 0.005924485179514531\n",
      "true\n",
      "With r 0.01818791946308725 the level of assets is 0.005904217489592661\n",
      "true\n",
      "With r 0.018590604026845637 the level of assets is 0.0058817625706060915\n",
      "true\n",
      "With r 0.018993288590604028 the level of assets is 0.005857064934351048\n",
      "true\n",
      "With r 0.019395973154362416 the level of assets is 0.005830064944195725\n",
      "true\n",
      "With r 0.019798657718120807 the level of assets is 0.005800691613162671\n",
      "true\n",
      "With r 0.020201342281879194 the level of assets is 0.005768878333432261\n",
      "true\n",
      "With r 0.020604026845637585 the level of assets is 0.005734577955848492\n",
      "true\n",
      "With r 0.021006711409395973 the level of assets is 0.005697739813141622\n",
      "true\n",
      "With r 0.021409395973154364 the level of assets is 0.005658302511365557\n",
      "true\n",
      "With r 0.02181208053691275 the level of assets is 0.005616222785639803\n",
      "true\n",
      "With r 0.022214765100671142 the level of assets is 0.005571501727776187\n",
      "true\n",
      "With r 0.02261744966442953 the level of assets is 0.005524125499981237\n",
      "true\n",
      "With r 0.02302013422818792 the level of assets is 0.005474035381856122\n",
      "true\n",
      "With r 0.02342281879194631 the level of assets is 0.005421170156528281\n",
      "true\n",
      "With r 0.0238255033557047 the level of assets is 0.005365475161006665\n",
      "true\n",
      "With r 0.024228187919463087 the level of assets is 0.0053069323075167745\n",
      "true\n",
      "With r 0.024630872483221475 the level of assets is 0.00524551329196303\n",
      "true\n",
      "With r 0.025033557046979866 the level of assets is 0.005181149351918817\n",
      "true\n",
      "With r 0.025436241610738253 the level of assets is 0.005113761321334431\n",
      "true\n",
      "With r 0.025838926174496644 the level of assets is 0.005043234590459496\n",
      "true\n",
      "With r 0.026241610738255032 the level of assets is 0.004969423593222332\n",
      "true\n",
      "With r 0.026644295302013423 the level of assets is 0.0048921377684284255\n",
      "true\n",
      "With r 0.02704697986577181 the level of assets is 0.004811231696736527\n",
      "true\n",
      "With r 0.0274496644295302 the level of assets is 0.004726713725157172\n",
      "true\n",
      "With r 0.02785234899328859 the level of assets is 0.004638667717972622\n",
      "true\n",
      "With r 0.02825503355704698 the level of assets is 0.004547276078076778\n",
      "true\n",
      "With r 0.028657718120805368 the level of assets is 0.00445283354674164\n",
      "true\n",
      "With r 0.02906040268456376 the level of assets is 0.0043556050237570955\n",
      "true\n",
      "With r 0.029463087248322146 the level of assets is 0.0042534984700261895\n",
      "true\n",
      "With r 0.029865771812080538 the level of assets is 0.004147520681501776\n",
      "true\n",
      "With r 0.030268456375838925 the level of assets is 0.004039801262546169\n",
      "true\n",
      "With r 0.030671140939597316 the level of assets is 0.003930512398829943\n",
      "true\n",
      "With r 0.031073825503355704 the level of assets is 0.003819851026740972\n",
      "true\n",
      "With r 0.03147651006711409 the level of assets is 0.0037079693987801124\n",
      "true\n",
      "With r 0.031879194630872486 the level of assets is 0.003594885936081474\n",
      "true\n",
      "With r 0.03228187919463087 the level of assets is 0.0034807816674815345\n",
      "true\n",
      "With r 0.03268456375838926 the level of assets is 0.0033658758426888522\n"
     ]
    },
    {
     "name": "stdout",
     "output_type": "stream",
     "text": [
      "true\n",
      "With r 0.03308724832214765 the level of assets is 0.003250473978665277\n",
      "true\n",
      "With r 0.03348993288590604 the level of assets is 0.0031351477059323764\n",
      "true\n",
      "With r 0.03389261744966443 the level of assets is 0.0030205824640782445\n",
      "true\n",
      "With r 0.03429530201342282 the level of assets is 0.0029073020086258354\n",
      "true\n",
      "With r 0.034697986577181206 the level of assets is 0.0027955797788330452\n",
      "true\n",
      "With r 0.0351006711409396 the level of assets is 0.0026854404433252956\n",
      "true\n",
      "With r 0.03550335570469799 the level of assets is 0.0025763400876436275\n",
      "true\n",
      "With r 0.035906040268456375 the level of assets is 0.0024674432897574565\n",
      "true\n",
      "With r 0.03630872483221476 the level of assets is 0.002358301959934085\n",
      "true\n",
      "With r 0.03671140939597316 the level of assets is 0.002248984669292861\n",
      "true\n",
      "With r 0.037114093959731545 the level of assets is 0.002139346965741375\n",
      "true\n",
      "With r 0.03751677852348993 the level of assets is 0.0020288966110407407\n",
      "true\n",
      "With r 0.03791946308724832 the level of assets is 0.001917098593343404\n",
      "true\n",
      "With r 0.038322147651006715 the level of assets is 0.0018032777085971053\n",
      "true\n",
      "With r 0.0387248322147651 the level of assets is 0.0016867636096449517\n",
      "true\n",
      "With r 0.03912751677852349 the level of assets is 0.0015674680553462038\n",
      "true\n",
      "With r 0.03953020134228188 the level of assets is 0.001445982777255405\n",
      "true\n",
      "With r 0.03993288590604027 the level of assets is 0.0013232379887831533\n",
      "true\n",
      "With r 0.04033557046979866 the level of assets is 0.0011995553611540233\n",
      "true\n",
      "With r 0.04073825503355705 the level of assets is 0.001073313657184803\n",
      "true\n",
      "With r 0.041140939597315435 the level of assets is 0.0009422784706080699\n",
      "true\n",
      "With r 0.04154362416107382 the level of assets is 0.0008050004338089479\n",
      "true\n",
      "With r 0.04194630872483222 the level of assets is 0.000658068474850916\n",
      "true\n",
      "With r 0.042348993288590604 the level of assets is 0.0004960360130152949\n",
      "true\n",
      "With r 0.04275167785234899 the level of assets is 0.00031739616105184326\n",
      "true\n",
      "With r 0.04315436241610738 the level of assets is 0.00012426919921462048\n",
      "true\n",
      "-8.090216351132684e-5\n",
      "Market Clearing with r 0.043557046979865774\n",
      "true\n",
      "With r 0.04395973154362416 the level of assets is -0.0002919079910195178\n",
      "true\n",
      "With r 0.04436241610738255 the level of assets is -0.0004971120389992452\n",
      "true\n",
      "With r 0.04476510067114094 the level of assets is -0.0006871996760948506\n",
      "true\n",
      "With r 0.04516778523489933 the level of assets is -0.0008613521244249597\n",
      "true\n",
      "With r 0.04557046979865772 the level of assets is -0.001021137225256507\n",
      "true\n",
      "With r 0.045973154362416106 the level of assets is -0.0011690045721738855\n",
      "true\n",
      "With r 0.046375838926174494 the level of assets is -0.0013048266165933114\n",
      "true\n",
      "With r 0.04677852348993289 the level of assets is -0.0014247130586580888\n",
      "true\n",
      "With r 0.047181208053691276 the level of assets is -0.0015027247001180991\n",
      "true\n",
      "With r 0.047583892617449663 the level of assets is -0.0015167782928637399\n",
      "true\n",
      "With r 0.04798657718120805 the level of assets is -0.0014666154041081897\n",
      "true\n",
      "With r 0.048389261744966446 the level of assets is -0.0013371821009805127\n",
      "true\n",
      "With r 0.04879194630872483 the level of assets is -0.0011110986185841126\n",
      "true\n",
      "With r 0.04919463087248322 the level of assets is -0.0007877748521322576\n",
      "true\n",
      "With r 0.04959731543624161 the level of assets is -0.0003488366501454816\n"
     ]
    },
    {
     "data": {
      "text/plain": [
       "150-element Array{Float64,1}:\n",
       "  0.00457993 \n",
       "  0.00461342 \n",
       "  0.00464656 \n",
       "  0.00467933 \n",
       "  0.00471172 \n",
       "  0.0047437  \n",
       "  0.00477525 \n",
       "  0.00480636 \n",
       "  0.00483701 \n",
       "  0.00486717 \n",
       "  0.00489684 \n",
       "  0.00492599 \n",
       "  0.0049546  \n",
       "  ⋮          \n",
       " -0.00102114 \n",
       " -0.001169   \n",
       " -0.00130483 \n",
       " -0.00142471 \n",
       " -0.00150272 \n",
       " -0.00151678 \n",
       " -0.00146662 \n",
       " -0.00133718 \n",
       " -0.0011111  \n",
       " -0.000787775\n",
       " -0.000348837\n",
       "  0.0        "
      ]
     },
     "execution_count": 7,
     "metadata": {},
     "output_type": "execute_result"
    }
   ],
   "source": [
    "resid_vec=asset_clear(model)"
   ]
  },
  {
   "cell_type": "code",
   "execution_count": null,
   "metadata": {
    "scrolled": true
   },
   "outputs": [],
   "source": [
    "import PyPlot\n",
    "plt=PyPlot\n",
    "T=149\n",
    " r_grid=linspace(-0.01, 0.05,150)\n",
    "plt.plot(r_grid[1:T], r_grid[1:T]*0, linestyle=\"--\")\n",
    "plt.plot(r_grid[1:T], resid_vec[1:T],  color=\"blue\")\n",
    "plt.ylim(-0.1,0.1)\n",
    "plt.xlabel(\"Interest rate\")\n",
    "plt.ylabel(\"Asset Supply\")"
   ]
  },
  {
   "cell_type": "code",
   "execution_count": null,
   "metadata": {
    "collapsed": true
   },
   "outputs": [],
   "source": [
    "@time sol=Dolo.time_iteration(model,verbose=true, maxit=1000)\n",
    "dr=sol.dr\n",
    "@time res = Dolo.time_iteration(model, dr; maxit=200)"
   ]
  },
  {
   "cell_type": "markdown",
   "metadata": {},
   "source": [
    "Dolo tabulate gives us the decision rules."
   ]
  },
  {
   "cell_type": "code",
   "execution_count": null,
   "metadata": {
    "collapsed": true
   },
   "outputs": [],
   "source": [
    "drtab = Dolo.tabulate(model, dr, :s) "
   ]
  },
  {
   "cell_type": "markdown",
   "metadata": {},
   "source": [
    "Now we plot the consumption policy function. We see that it is concave because of the precautionary savings motive noting as well that there is more curvature closer to the borrowing constraint."
   ]
  },
  {
   "cell_type": "code",
   "execution_count": null,
   "metadata": {
    "collapsed": true
   },
   "outputs": [],
   "source": [
    "# Plot the consumption policy function\n",
    "import PyPlot\n",
    "plt=PyPlot\n",
    "r=model.calibration.flat[:r]\n",
    "print(r)\n",
    "c=exp(drtab[Axis{:V}(:lny)])+drtab[:s]*r-drtab[Axis{:V}(:a)]\n",
    "\n",
    "plt.plot(drtab[Axis{:V}(:s)],c, color=\"blue\")\n",
    "plt.xlabel(\"Savings\")\n",
    "plt.ylabel(\"Consumption\")\n",
    "plt.title(\"Consumption Policy Function\")"
   ]
  },
  {
   "cell_type": "markdown",
   "metadata": {},
   "source": [
    "### Simulations"
   ]
  },
  {
   "cell_type": "markdown",
   "metadata": {},
   "source": [
    "Here we run simulations for N agents and look at the asset distribution."
   ]
  },
  {
   "cell_type": "code",
   "execution_count": null,
   "metadata": {
    "collapsed": true
   },
   "outputs": [],
   "source": [
    "# Simulations\n",
    "import PyPlot\n",
    "plt=PyPlot\n",
    "\n",
    "\n",
    "mc_ar=model.exogenous\n",
    "\n",
    "sim_armc = Dolo.simulate(model,dr;N=1000,T=200)\n",
    "\n",
    "\n",
    "T=200"
   ]
  },
  {
   "cell_type": "code",
   "execution_count": null,
   "metadata": {
    "collapsed": true
   },
   "outputs": [],
   "source": [
    "N=1000\n",
    "n=200 # number of periods to plot\n",
    "hor=linspace(1,n,n)\n",
    "function plot_simulations(N::Int64,T::Int64,n::Int64,sim_armc)\n",
    "    assets_end=zeros(N)\n",
    "    for ii=1:N # number of simulations\n",
    "          \n",
    "        c=exp(sim_armc[Axis{:N}(ii), Axis{:V}(:lny)])[T-n+1:T]+sim_armc[Axis{:N}(ii), Axis{:V}(:s)][T-n+1:T]*r-sim_armc[Axis{:N}(ii), Axis{:V}(:a)][T-n+1:T]\n",
    "        assets_end[ii]=exp(sim_armc[Axis{:N}(ii), Axis{:V}(:lny)])[T]-c[end]\n",
    "\n",
    "        #assets_end[ii]=exp(sim_armc[Axis{:N}(ii), Axis{:V}(:lny)])[T]-c[end]\n",
    "    \n",
    "    end\n",
    "\n",
    "    return assets_end\n",
    "end\n",
    "\n",
    "\n"
   ]
  },
  {
   "cell_type": "code",
   "execution_count": null,
   "metadata": {
    "collapsed": true
   },
   "outputs": [],
   "source": [
    "assets_end=plot_simulations(N,T,n,sim_armc);"
   ]
  },
  {
   "cell_type": "markdown",
   "metadata": {},
   "source": [
    "We see that the average asset holdings is very close to zero so we have market clearing."
   ]
  },
  {
   "cell_type": "code",
   "execution_count": null,
   "metadata": {
    "collapsed": true
   },
   "outputs": [],
   "source": [
    "using Plots\n",
    "histogram(assets_end,nbins=80,xlims=(-2.0,4.0), ylims=(0.0,120.0), label=\"\", xlabel=\"Assets\", ylabel=\"Frequency\", title=\"Assets Distribution\")\n"
   ]
  },
  {
   "cell_type": "code",
   "execution_count": null,
   "metadata": {
    "collapsed": true
   },
   "outputs": [],
   "source": [
    "mean(assets_end)"
   ]
  }
 ],
 "metadata": {
  "kernelspec": {
   "display_name": "Julia 0.5.2",
   "language": "julia",
   "name": "julia-0.5"
  },
  "language_info": {
   "file_extension": ".jl",
   "mimetype": "application/julia",
   "name": "julia",
   "version": "0.5.2"
  }
 },
 "nbformat": 4,
 "nbformat_minor": 2
}
