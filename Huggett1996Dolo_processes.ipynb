{
 "cells": [
  {
   "cell_type": "markdown",
   "metadata": {},
   "source": [
    "## This notebook solves a simplified version of Huggett (1996) model using Dolo."
   ]
  },
  {
   "cell_type": "markdown",
   "metadata": {},
   "source": [
    "This is a heterogeneous-agent overlapping generations model where each period agents are hit with idiosyncratic income shocks $y_t$ that follow an $AR1$ process. Also, each period, agents die with probability $\\tau$, and at age $T$, agents die with certainty.  There are incomplete markets and agents only have access to a risk-free asset $s_t$ that pays $(1+r)s_t$ next period, where $r$ is the interest rate.\n",
    "\n",
    "The value function for an agent with current assets $s$ and current income $y$ is: $v(y,s)=\\max_{c,s'} u(c)+\\beta \\mathbf{E}v(y',s')$ where the expectation is taken over the value of the income shock and the probability of dying.\n",
    "\n",
    "The agent's budget constraint is: $c+s'=(1+r)s+y$ where s' is his asset choice next period. The agent will also be subject to a borrowing constraint: $s'\\geq \\bar{s}$.\n",
    "\n",
    "Here, we define the control in the model as $a=s'-s$, i.e. $a$ is the change in assets.\n"
   ]
  },
  {
   "cell_type": "markdown",
   "metadata": {},
   "source": [
    "#### Some notes on the solution method:\n",
    "\n",
    "The solution method is almost identical to Huggett (1993) except that we have an additional exogenous process, $t$, for keeping track of whether an agent is alive or not (if $t=1$, the agent is alive). $t$ follows a Markov Process. To illustrate, let us suppose an agent can live for three periods at most, and each period he has a probability $\\tau$ of dying. Then, the set of values for $t$ is $[1, 1,1,0]$ and the transition matrix for $t$ is:\n",
    "\n",
    "\\begin{bmatrix}\n",
    "    0     & 1-\\tau  & 0 & \\tau \\\\\n",
    "    0       & 0 & 1-\\tau  & \\tau \\\\\n",
    "    0       & 0  & 0 & 1\\\\\n",
    "    0       & 0 & 0 & 1\\\\\n",
    "\\end{bmatrix}\n",
    "\n"
   ]
  },
  {
   "cell_type": "code",
   "execution_count": 1,
   "metadata": {},
   "outputs": [
    {
     "name": "stderr",
     "output_type": "stream",
     "text": [
      "\u001b[1m\u001b[31mWARNING: Using Calculus.jl for symbolic differentiation. This will be slower than SymEngine.jl\n",
      ". To use SymEngine run the following code: `Pkg.add(\"SymEngine\")`\u001b[0m\n",
      "WARNING: Method definition discretize(Dolo.DiscreteMarkovProcess) in module Dolo at C:\\Users\\Angela\\AppData\\Local\\JuliaPro-0.5.2.2\\pkgs-0.5.2.2\\v0.5\\Dolo\\src\\numeric/processes.jl:36 overwritten at C:\\Users\\Angela\\AppData\\Local\\JuliaPro-0.5.2.2\\pkgs-0.5.2.2\\v0.5\\Dolo\\src\\numeric/processes.jl:151.\n"
     ]
    }
   ],
   "source": [
    "# importing packages\n",
    "# First import the packages\n",
    "Pkg.dir(\"Dolo\")\n",
    "import Dolo\n",
    "using AxisArrays\n",
    "using PyPlot"
   ]
  },
  {
   "cell_type": "code",
   "execution_count": 2,
   "metadata": {},
   "outputs": [
    {
     "data": {
      "text/plain": [
       "\"Huggett1996.yaml\""
      ]
     },
     "execution_count": 2,
     "metadata": {},
     "output_type": "execute_result"
    }
   ],
   "source": [
    "# get the model file\n",
    "filename=(\"Huggett1996.yaml\")"
   ]
  },
  {
   "cell_type": "code",
   "execution_count": 3,
   "metadata": {
    "scrolled": true
   },
   "outputs": [
    {
     "data": {
      "text/html": [
       "     <table>\n",
       "         <td><b>Model</b></td>\n",
       "     <tr>\n",
       "        <td>name</td>\n",
       "        <td>Huggett 1996</td>\n",
       "      </tr>\n",
       "      <tr>\n",
       "        <td>filename</td>\n",
       "        <td>Huggett1996.yaml</td>\n",
       "      </tr>\n",
       "    </table>\n",
       "<table width=\"100%\"><tr><td><b>Type</b></td><td><b>Equation</b></td></tr>\n",
       "<tr><td>value</td><td>\\[V_{t} = \\frac{\\left(c_{t}\\right)^{\\left(1-\\sigma\\right)}}{\\left(1-\\sigma\\right)}+\\beta V_{t+1}\\]</td></tr><tr><td>expectation</td><td>\\[m_{t} = \\frac{\\beta}{\\left(c_{t+1}\\right)^{\\sigma}} 1+r\\]</td></tr><tr><td>felicity</td><td>\\[u_{t} = \\frac{\\left(c_{t}\\right)^{\\left(1-\\sigma\\right)}}{\\left(1-\\sigma\\right)}\\]</td></tr><tr><td>transition</td><td>\\[s_{t} = a_{t-1}+s_{t-1}\\]</td></tr><tr><td>arbitrage</td><td>\\[\\left(1-\\beta \\left(\\frac{c_{t}}{c_{t+1}}\\right)^{\\sigma} 1+r\\right) t_{t}+\\left(1-t_{t}\\right) \\left(10000-c_{t}\\right)\\]</td></tr><table>"
      ],
      "text/plain": []
     },
     "execution_count": 3,
     "metadata": {},
     "output_type": "execute_result"
    }
   ],
   "source": [
    "model=Dolo.yaml_import(filename)"
   ]
  },
  {
   "cell_type": "code",
   "execution_count": 10,
   "metadata": {},
   "outputs": [
    {
     "data": {
      "text/plain": [
       "Dolo.DiscreteMarkovProcess(,[0.0 0.6029 … 0.0 0.0; 0.0 0.0 … 0.0 0.0; … ; 0.0 0.0 … 0.0 0.612081; 0.0 0.0 … 0.0 0.612081],[-0.0968141 1.0; -0.0968141 1.0; … ; 0.0968141 1.0; 0.0968141 0.0])"
      ]
     },
     "execution_count": 10,
     "metadata": {},
     "output_type": "execute_result"
    },
    {
     "name": "stdout",
     "output_type": "stream",
     "text": [
      "Dolo.UnstructuredGrid\n"
     ]
    }
   ],
   "source": [
    "dp = Dolo.discretize(model.exogenous)"
   ]
  },
  {
   "cell_type": "code",
   "execution_count": 5,
   "metadata": {},
   "outputs": [
    {
     "name": "stdout",
     "output_type": "stream",
     "text": [
      "------------------------------------------------------------------\n",
      "It    ηₙ=|xₙ-xₙ₋₁|    λₙ=ηₙ/ηₙ₋₁      Time            Newton steps\n",
      "------------------------------------------------------------------\n",
      "0     NaN             NaN             0.00e+00        0    \n",
      "1     1.70e+01        NaN             7.13e-01        4    \n",
      "2     1.61e+01        9.49e-01        1.77e+00        10   \n",
      "3     6.52e+01        4.05e+00        2.12e+00        10   \n",
      "4     5.49e+01        8.41e-01        1.78e+00        10   \n",
      "5     2.17e+01        3.95e-01        1.93e+00        10   \n",
      "6     4.00e+01        1.85e+00        2.34e+00        10   \n",
      "7     3.29e+01        8.24e-01        2.16e+00        10   \n",
      "8     6.11e+01        1.85e+00        2.66e+00        10   \n",
      "9     1.76e+02        2.87e+00        1.73e+00        10   \n",
      "10    1.72e+02        9.78e-01        2.01e+00        10   \n",
      "11    7.09e+01        4.13e-01        1.64e+00        10   \n",
      "12    1.13e+02        1.60e+00        2.42e+00        10   \n",
      "13    1.12e+02        9.91e-01        1.71e+00        10   \n",
      "14    2.35e+00        2.10e-02        1.78e+00        10   \n",
      "15    1.52e+01        6.45e+00        1.54e+00        10   \n",
      "16    5.94e-01        3.92e-02        7.00e-01        4    \n",
      "17    0.00e+00        0.00e+00        5.59e-02        0    \n",
      "------------------------------------------------------------------\n",
      " 29.123301 seconds (476.66 M allocations: 35.595 GB, 14.40% gc time)\n",
      "------------------------------------------------------------------\n",
      "It    ηₙ=|xₙ-xₙ₋₁|    λₙ=ηₙ/ηₙ₋₁      Time            Newton steps\n",
      "------------------------------------------------------------------\n",
      "0     NaN             NaN             0.00e+00        0    \n",
      "1     0.00e+00        NaN             5.29e-02        0    \n",
      "------------------------------------------------------------------\n",
      "  0.061704 seconds (838.40 k allocations: 64.210 MB, 8.49% gc time)\n"
     ]
    },
    {
     "data": {
      "text/plain": [
       "Results of Time Iteration Algorithm\n",
       " * Complementarities: true\n",
       " * Discretized Process type: Dolo.DiscreteMarkovProcess\n",
       " * Decision Rule type: Dolo.DecisionRule{Dolo.UnstructuredGrid,Dolo.CartesianGrid}\n",
       " * Number of iterations: 1\n",
       " * Convergence: true\n",
       "   * |x - x'| < 1.0e-07: true\n"
      ]
     },
     "execution_count": 5,
     "metadata": {},
     "output_type": "execute_result"
    }
   ],
   "source": [
    "@time sol=Dolo.time_iteration(model, verbose=true, maxit=1000)\n",
    "dr=sol.dr\n",
    "@time res = Dolo.time_iteration(model, dr; maxit=200)"
   ]
  },
  {
   "cell_type": "markdown",
   "metadata": {},
   "source": [
    "Let's look at some consumption policy functions."
   ]
  },
  {
   "cell_type": "code",
   "execution_count": 11,
   "metadata": {
    "collapsed": true
   },
   "outputs": [],
   "source": [
    "\n",
    "drtab = Dolo.tabulate(model, dr, :s) \n",
    "\n",
    "# First we have to get the policy functions \n",
    "s0 = model.calibration[:states]\n",
    "#num_ages= 8 # number of ages  + 1 for death state\n",
    "#y_states=[num_ages*n-(num_ages-1) for n in 1:5]\n",
    "#num_yplots=length(y_states)\n",
    "dr_ylist=[Dolo.tabulate(model, dr, :s, s0,  y) for y in 4:6]\n",
    "ygrid=dp.values[1:3,1]\n",
    "r=model.calibration.flat[:r]\n",
    "#num_yplots=3\n",
    "#ygrid=\n",
    "#ygrid=[Dolo.node(model.exogenous,num_ages*i-(num_ages-1))[1] for i in 1:6]\n",
    "c_ylist=[exp(ygrid[y])+dr_ylist[y][:s]*r-dr_ylist[y][Axis{:V}(:a)] for y in 1:3];"
   ]
  },
  {
   "cell_type": "code",
   "execution_count": 12,
   "metadata": {},
   "outputs": [
    {
     "data": {
      "image/png": "[encoded data removed]",
      "text/plain": [
       "PyPlot.Figure(PyObject <matplotlib.figure.Figure object at 0x000000000A881CC0>)"
      ]
     },
     "metadata": {},
     "output_type": "display_data"
    },
    {
     "data": {
      "text/plain": [
       "PyObject <matplotlib.text.Text object at 0x00000000059989B0>"
      ]
     },
     "execution_count": 12,
     "metadata": {},
     "output_type": "execute_result"
    }
   ],
   "source": [
    "# Plot the consumption policy function across different income levels for age 1\n",
    "import PyPlot\n",
    "plt=PyPlot\n",
    "end_y=10\n",
    "\n",
    "for i=1:3\n",
    "    plt.plot(dr_ylist[i][Axis{:V}(:s)][1:end_y],c_ylist[i][1:end_y], label=i)\n",
    "end\n",
    "\n",
    "plt.legend()\n",
    "plt.xlabel(\"Savings\")\n",
    "plt.ylabel(\"Consumption\")\n",
    "plt.title(\"Consumption Policy Function across different income levels\")"
   ]
  },
  {
   "cell_type": "code",
   "execution_count": null,
   "metadata": {
    "collapsed": true
   },
   "outputs": [],
   "source": [
    "# Plot consumption policy function with different ages (income level 2)\n",
    "inc_level=2\n",
    "a_states=convert(Vector{Int64},linspace(10,15,6))\n",
    "num_aplots=length(a_states)\n",
    "dr_alist=[Dolo.tabulate(model, dr, :s, s0, a) for a in a_states]\n",
    "c_alist=[exp(ygrid[inc_level])+dr_alist[a][:s]*r-dr_alist[a][Axis{:V}(:a)] for a in 1:num_aplots];\n",
    "\n",
    "for i=1:num_aplots\n",
    "    plt.plot(dr_alist[i][Axis{:V}(:s)][1:end_y],c_alist[i][1:end_y], label=i)\n",
    "end\n",
    "\n",
    "plt.xlabel(\"Savings\")\n",
    "plt.ylabel(\"Consumption\")\n",
    "plt.title(\"Consumption Policy Function across different Ages\")"
   ]
  },
  {
   "cell_type": "markdown",
   "metadata": {},
   "source": [
    "Simulate the model."
   ]
  },
  {
   "cell_type": "code",
   "execution_count": null,
   "metadata": {
    "collapsed": true
   },
   "outputs": [],
   "source": [
    "T=10\n",
    "hor=linspace(1,T,T)\n",
    "mc_ar=model.exogenous\n",
    "sim_armc = Dolo.simulate(model,dr,mc_ar;N=100,T=10);\n"
   ]
  },
  {
   "cell_type": "markdown",
   "metadata": {},
   "source": [
    " Set-up the life-status and earnings path for the agents"
   ]
  },
  {
   "cell_type": "code",
   "execution_count": null,
   "metadata": {
    "collapsed": true
   },
   "outputs": [],
   "source": [
    "N=100\n",
    "T=10\n",
    "\n",
    "life_grid=ones(num_ages)\n",
    "life_grid[num_ages]=0.0\n",
    "income_path=zeros(T,N)\n",
    "life_status=zeros(T,N)\n",
    "age_status=zeros(T,N)\n",
    "Tot_states=54.0 #(9 ages * 6 income states)\n",
    "for j=1:N\n",
    "    for i=1:T\n",
    "       state=convert(Int64,sim_armc[Axis{:N}(j), Axis{:V}(:mc_process)][i])\n",
    "       state_y,state_a=Dolo.node(model.exogenous,state)\n",
    "       income_path[i,j]=exp(state_y)\n",
    "       life_status[i,j]=state_a\n",
    "    end\n",
    "end"
   ]
  },
  {
   "cell_type": "markdown",
   "metadata": {},
   "source": [
    "Plot the life-cycle consumption and income profile for one agent."
   ]
  },
  {
   "cell_type": "code",
   "execution_count": null,
   "metadata": {
    "collapsed": true
   },
   "outputs": [],
   "source": [
    "# Pick an agent from the simulation: \n",
    "import PyPlot\n",
    "plt=PyPlot\n",
    "j=9\n",
    "t_death=maximum(find(life_status[:,j]))\n",
    "horizon=t_death-2\n",
    "hor_alive=linspace(1,horizon,horizon)\n",
    "\n",
    "c=(income_path[1:horizon,j]+sim_armc[Axis{:N}(j), Axis{:V}(:s)][1:horizon]*r-sim_armc[Axis{:N}(j), Axis{:V}(:a)][1:horizon]).*life_status[1:horizon,j]\n",
    "plt.plot(hor_alive, income_path[1:horizon,j].*life_status[1:horizon,j], color=\"blue\", alpha=0.35, label=\"income\")\n",
    "plt.plot(hor_alive, c, color=\"green\",label=\"consumption\")\n",
    "plt.legend()\n",
    "plt.xlabel(\"Time Period\")\n",
    "plt.title(\"Simulated Paths for Consumption and Income\")"
   ]
  }
 ],
 "metadata": {
  "kernelspec": {
   "display_name": "Julia 0.5.2",
   "language": "julia",
   "name": "julia-0.5"
  },
  "language_info": {
   "file_extension": ".jl",
   "mimetype": "application/julia",
   "name": "julia",
   "version": "0.5.2"
  }
 },
 "nbformat": 4,
 "nbformat_minor": 2
}
