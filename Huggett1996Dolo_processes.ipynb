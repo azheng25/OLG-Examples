{
 "cells": [
  {
   "cell_type": "markdown",
   "metadata": {},
   "source": [
    "## This notebook solves a simplified version of Huggett (1996) model using Dolo."
   ]
  },
  {
   "cell_type": "markdown",
   "metadata": {},
   "source": [
    "This is a heterogeneous-agent overlapping generations model where each period agents are hit with idiosyncratic income shocks $y_t$ that follow an $AR1$ process. Also, each period, agents die with probability $\\tau$, and at age $T$, agents die with certainty.  There are incomplete markets and agents only have access to a risk-free asset $s_t$ that pays $(1+r)s_t$ next period, where $r$ is the interest rate.\n",
    "\n",
    "The value function for an agent with current assets $s$ and current income $y$ is: $v(y,s)=\\max_{c,s'} u(c)+\\beta \\mathbf{E}v(y',s')$ where the expectation is taken over the value of the income shock and the probability of dying.\n",
    "\n",
    "The agent's budget constraint is: $c+s'=(1+r)s+y$ where s' is his asset choice next period. The agent will also be subject to a borrowing constraint: $s'\\geq \\bar{s}$.\n",
    "\n",
    "Here, we define the control in the model as $a=s'-s$, i.e. $a$ is the change in assets.\n"
   ]
  },
  {
   "cell_type": "markdown",
   "metadata": {},
   "source": [
    "#### Some notes on the solution method:\n",
    "\n",
    "The solution method is almost identical to Huggett (1993) except that we have an additional exogenous process, $t$, for keeping track of whether an agent is alive or not (if $t=1$, the agent is alive). $t$ follows a Markov Process. To illustrate, let us suppose an agent can live for three periods at most, and each period he has a probability $\\tau$ of dying. Then, the set of values for $t$ is $[1, 1,1,0]$ and the transition matrix for $t$ is:\n",
    "\n",
    "\\begin{bmatrix}\n",
    "    0     & 1-\\tau  & 0 & \\tau \\\\\n",
    "    0       & 0 & 1-\\tau  & \\tau \\\\\n",
    "    0       & 0  & 0 & 1\\\\\n",
    "    0       & 0 & 0 & 1\\\\\n",
    "\\end{bmatrix}\n",
    "\n"
   ]
  },
  {
   "cell_type": "code",
   "execution_count": 1,
   "metadata": {},
   "outputs": [
    {
     "name": "stderr",
     "output_type": "stream",
     "text": [
      "\u001b[1m\u001b[31mWARNING: Using Calculus.jl for symbolic differentiation. This will be slower than SymEngine.jl\n",
      ". To use SymEngine run the following code: `Pkg.add(\"SymEngine\")`\u001b[0m\n",
      "WARNING: Method definition discretize(Dolo.DiscreteMarkovProcess) in module Dolo at C:\\Users\\Angela\\AppData\\Local\\JuliaPro-0.5.2.2\\pkgs-0.5.2.2\\v0.5\\Dolo\\src\\numeric/processes.jl:36 overwritten at C:\\Users\\Angela\\AppData\\Local\\JuliaPro-0.5.2.2\\pkgs-0.5.2.2\\v0.5\\Dolo\\src\\numeric/processes.jl:151.\n"
     ]
    }
   ],
   "source": [
    "# importing packages\n",
    "# First import the packages\n",
    "Pkg.dir(\"Dolo\")\n",
    "import Dolo\n",
    "using AxisArrays\n",
    "using PyPlot"
   ]
  },
  {
   "cell_type": "code",
   "execution_count": 56,
   "metadata": {},
   "outputs": [
    {
     "data": {
      "text/plain": [
       "\"Huggett1996.yaml\""
      ]
     },
     "execution_count": 56,
     "metadata": {},
     "output_type": "execute_result"
    }
   ],
   "source": [
    "# get the model file\n",
    "filename=(\"Huggett1996.yaml\")"
   ]
  },
  {
   "cell_type": "code",
   "execution_count": 57,
   "metadata": {
    "scrolled": true
   },
   "outputs": [
    {
     "data": {
      "text/html": [
       "     <table>\n",
       "         <td><b>Model</b></td>\n",
       "     <tr>\n",
       "        <td>name</td>\n",
       "        <td>Huggett 1996</td>\n",
       "      </tr>\n",
       "      <tr>\n",
       "        <td>filename</td>\n",
       "        <td>Huggett1996.yaml</td>\n",
       "      </tr>\n",
       "    </table>\n",
       "<table width=\"100%\"><tr><td><b>Type</b></td><td><b>Equation</b></td></tr>\n",
       "<tr><td>value</td><td>\\[V_{t} = \\frac{\\left(c_{t}\\right)^{\\left(1-\\sigma\\right)}}{\\left(1-\\sigma\\right)}+\\beta V_{t+1}\\]</td></tr><tr><td>expectation</td><td>\\[m_{t} = \\frac{\\beta}{\\left(c_{t+1}\\right)^{\\sigma}} 1+r\\]</td></tr><tr><td>felicity</td><td>\\[u_{t} = \\frac{\\left(c_{t}\\right)^{\\left(1-\\sigma\\right)}}{\\left(1-\\sigma\\right)}\\]</td></tr><tr><td>transition</td><td>\\[s_{t} = a_{t-1}+s_{t-1}\\]</td></tr><tr><td>arbitrage</td><td>\\[\\left(1-\\beta \\left(\\frac{c_{t}}{c_{t+1}}\\right)^{\\sigma} 1+r\\right) \\left(1-t_{t}\\right)+t_{t} \\left(10000-c_{t}\\right)\\]</td></tr><table>"
      ],
      "text/plain": []
     },
     "execution_count": 57,
     "metadata": {},
     "output_type": "execute_result"
    },
    {
     "name": "stdout",
     "output_type": "stream",
     "text": [
      "Model\n"
     ]
    }
   ],
   "source": [
    "model=Dolo.yaml_import(filename)"
   ]
  },
  {
   "cell_type": "code",
   "execution_count": 38,
   "metadata": {},
   "outputs": [
    {
     "data": {
      "text/plain": [
       "Dolo.DiscreteMarkovProcess(,[0.855625 0.13875 … 0.0 0.0; 0.069375 0.86125 … 0.0 0.0; … ; 0.069375 0.86125 … 0.0 0.0; 0.005625 0.13875 … 0.0 0.0],[-0.0848953 0.0 1.0; 0.0 0.0 1.0; … ; 0.0 8.0 0.0; 0.0848953 8.0 0.0])"
      ]
     },
     "execution_count": 38,
     "metadata": {},
     "output_type": "execute_result"
    },
    {
     "name": "stdout",
     "output_type": "stream",
     "text": [
      "Dolo.UnstructuredGrid\n"
     ]
    }
   ],
   "source": [
    "dp = Dolo.discretize(model.exogenous)"
   ]
  },
  {
   "cell_type": "code",
   "execution_count": 58,
   "metadata": {},
   "outputs": [
    {
     "name": "stdout",
     "output_type": "stream",
     "text": [
      "------------------------------------------------------------------\n",
      "It    ηₙ=|xₙ-xₙ₋₁|    λₙ=ηₙ/ηₙ₋₁      Time            Newton steps\n",
      "------------------------------------------------------------------\n",
      "0     NaN             NaN             0.00e+00        0    \n",
      "1     1.60e+01        NaN             4.97e-01        5    \n",
      "2     5.44e-02        3.40e-03        1.82e-01        4    \n",
      "3     4.14e-02        7.60e-01        1.56e-01        4    \n",
      "4     3.20e-02        7.73e-01        1.48e-01        4    \n",
      "5     2.49e-02        7.78e-01        1.37e-01        3    \n",
      "6     1.94e-02        7.80e-01        1.29e-01        3    \n",
      "7     1.52e-02        7.82e-01        1.24e-01        3    \n",
      "8     1.19e-02        7.86e-01        1.31e-01        3    \n",
      "9     9.44e-03        7.91e-01        1.89e-01        3    \n",
      "10    7.52e-03        7.97e-01        1.58e-01        3    \n",
      "11    6.04e-03        8.03e-01        1.37e-01        3    \n",
      "12    5.12e-03        8.47e-01        9.44e-02        2    \n",
      "13    4.40e-03        8.59e-01        8.07e-02        2    \n",
      "14    3.89e-03        8.86e-01        1.04e-01        2    \n",
      "15    3.45e-03        8.85e-01        9.98e-02        2    \n",
      "16    3.04e-03        8.83e-01        8.52e-02        2    \n",
      "17    2.67e-03        8.77e-01        8.63e-02        2    \n",
      "18    2.34e-03        8.78e-01        9.24e-02        2    \n",
      "19    2.12e-03        9.05e-01        7.90e-02        2    \n",
      "20    1.92e-03        9.06e-01        9.20e-02        2    \n",
      "21    1.74e-03        9.06e-01        9.33e-02        2    \n",
      "22    1.57e-03        9.03e-01        9.61e-02        2    \n",
      "23    1.43e-03        9.06e-01        8.49e-02        2    \n",
      "24    1.32e-03        9.29e-01        8.13e-02        2    \n",
      "25    1.23e-03        9.31e-01        8.61e-02        2    \n",
      "26    1.15e-03        9.31e-01        7.33e-02        2    \n",
      "27    1.07e-03        9.30e-01        8.61e-02        2    \n",
      "28    9.98e-04        9.34e-01        8.26e-02        2    \n",
      "29    9.49e-04        9.51e-01        1.02e-01        2    \n",
      "30    9.03e-04        9.52e-01        8.86e-02        2    \n",
      "31    8.59e-04        9.52e-01        7.90e-02        2    \n",
      "32    8.18e-04        9.51e-01        9.11e-02        2    \n",
      "33    7.79e-04        9.53e-01        7.93e-02        2    \n",
      "34    7.52e-04        9.65e-01        8.95e-02        2    \n",
      "35    7.25e-04        9.65e-01        9.84e-02        2    \n",
      "36    7.00e-04        9.65e-01        9.96e-02        2    \n",
      "37    6.75e-04        9.64e-01        8.41e-02        2    \n",
      "38    6.50e-04        9.64e-01        7.88e-02        2    \n",
      "39    6.32e-04        9.72e-01        8.53e-02        2    \n",
      "40    6.15e-04        9.72e-01        7.89e-02        2    \n",
      "41    5.98e-04        9.72e-01        8.74e-02        2    \n",
      "42    5.80e-04        9.71e-01        7.32e-02        2    \n",
      "43    5.64e-04        9.71e-01        9.30e-02        2    \n",
      "44    5.49e-04        9.75e-01        4.29e-02        1    \n",
      "45    5.36e-04        9.76e-01        5.30e-02        1    \n",
      "46    5.23e-04        9.76e-01        4.89e-02        1    \n",
      "47    5.10e-04        9.75e-01        5.14e-02        1    \n",
      "48    4.97e-04        9.75e-01        5.44e-02        1    \n",
      "49    4.85e-04        9.75e-01        5.36e-02        1    \n",
      "50    4.74e-04        9.78e-01        4.26e-02        1    \n",
      "51    4.64e-04        9.78e-01        5.25e-02        1    \n",
      "52    4.53e-04        9.77e-01        4.58e-02        1    \n",
      "53    4.43e-04        9.77e-01        5.60e-02        1    \n",
      "54    4.32e-04        9.77e-01        4.89e-02        1    \n",
      "55    4.22e-04        9.77e-01        5.40e-02        1    \n",
      "56    4.13e-04        9.79e-01        4.28e-02        1    \n",
      "57    4.04e-04        9.78e-01        4.87e-02        1    \n",
      "58    3.95e-04        9.78e-01        4.28e-02        1    \n",
      "59    3.87e-04        9.78e-01        4.70e-02        1    \n",
      "60    3.78e-04        9.78e-01        5.48e-02        1    \n",
      "61    3.70e-04        9.77e-01        5.11e-02        1    \n",
      "62    3.62e-04        9.79e-01        5.57e-02        1    \n",
      "63    3.54e-04        9.79e-01        4.98e-02        1    \n",
      "64    3.47e-04        9.79e-01        5.60e-02        1    \n",
      "65    3.39e-04        9.79e-01        4.36e-02        1    \n",
      "66    3.32e-04        9.78e-01        5.78e-02        1    \n",
      "67    3.25e-04        9.78e-01        3.95e-02        1    \n",
      "68    3.18e-04        9.78e-01        5.55e-02        1    \n",
      "69    3.11e-04        9.79e-01        4.27e-02        1    \n",
      "70    3.04e-04        9.79e-01        5.57e-02        1    \n",
      "71    2.98e-04        9.79e-01        4.27e-02        1    \n",
      "72    2.92e-04        9.79e-01        5.88e-02        1    \n",
      "73    2.86e-04        9.79e-01        4.27e-02        1    \n",
      "74    2.80e-04        9.79e-01        5.35e-02        1    \n",
      "75    2.74e-04        9.79e-01        4.90e-02        1    \n",
      "76    2.68e-04        9.79e-01        5.39e-02        1    \n",
      "77    2.62e-04        9.79e-01        4.55e-02        1    \n",
      "78    2.57e-04        9.79e-01        5.25e-02        1    \n",
      "79    2.51e-04        9.79e-01        4.95e-02        1    \n",
      "80    2.46e-04        9.79e-01        5.91e-02        1    \n",
      "81    2.41e-04        9.79e-01        5.52e-02        1    \n",
      "82    2.36e-04        9.79e-01        5.59e-02        1    \n",
      "83    2.31e-04        9.79e-01        4.59e-02        1    \n",
      "84    2.26e-04        9.79e-01        5.59e-02        1    \n",
      "85    2.21e-04        9.79e-01        4.40e-02        1    \n",
      "86    2.17e-04        9.79e-01        5.62e-02        1    \n",
      "87    2.12e-04        9.79e-01        4.06e-02        1    \n",
      "88    2.08e-04        9.79e-01        5.35e-02        1    \n",
      "89    2.04e-04        9.79e-01        5.50e-02        1    \n",
      "90    1.99e-04        9.79e-01        5.14e-02        1    \n",
      "91    1.95e-04        9.79e-01        5.39e-02        1    \n",
      "92    1.91e-04        9.79e-01        5.09e-02        1    \n",
      "93    1.87e-04        9.79e-01        4.29e-02        1    \n",
      "94    1.83e-04        9.79e-01        5.32e-02        1    \n",
      "95    1.80e-04        9.80e-01        4.29e-02        1    \n",
      "96    1.76e-04        9.79e-01        6.02e-02        1    \n",
      "97    1.72e-04        9.79e-01        3.96e-02        1    \n",
      "98    1.69e-04        9.79e-01        5.88e-02        1    \n",
      "99    1.65e-04        9.79e-01        4.28e-02        1    \n",
      "100   1.62e-04        9.79e-01        6.60e-02        1    \n",
      "101   1.58e-04        9.79e-01        4.91e-02        1    \n",
      "102   1.55e-04        9.79e-01        5.53e-02        1    \n",
      "103   1.52e-04        9.79e-01        4.88e-02        1    \n",
      "104   1.49e-04        9.80e-01        5.60e-02        1    \n",
      "105   1.46e-04        9.80e-01        4.85e-02        1    \n",
      "106   1.43e-04        9.80e-01        6.35e-02        1    \n",
      "107   1.40e-04        9.80e-01        3.99e-02        1    \n",
      "108   1.37e-04        9.79e-01        5.90e-02        1    \n",
      "109   1.34e-04        9.79e-01        6.28e-02        1    \n",
      "110   1.31e-04        9.79e-01        5.47e-02        1    \n",
      "111   1.29e-04        9.79e-01        5.42e-02        1    \n",
      "112   1.26e-04        9.79e-01        5.90e-02        1    \n",
      "113   1.23e-04        9.79e-01        4.28e-02        1    \n",
      "114   1.21e-04        9.79e-01        5.43e-02        1    \n",
      "115   1.18e-04        9.79e-01        5.10e-02        1    \n",
      "116   1.16e-04        9.80e-01        4.77e-02        1    \n",
      "117   1.14e-04        9.80e-01        4.64e-02        1    \n",
      "118   1.11e-04        9.80e-01        5.85e-02        1    \n",
      "119   1.09e-04        9.80e-01        5.00e-02        1    \n",
      "120   1.07e-04        9.80e-01        5.21e-02        1    \n",
      "121   1.05e-04        9.80e-01        4.93e-02        1    \n",
      "122   1.03e-04        9.79e-01        4.74e-02        1    \n",
      "123   1.00e-04        9.79e-01        5.03e-02        1    \n",
      "124   9.83e-05        9.79e-01        6.24e-02        1    \n",
      "125   9.63e-05        9.79e-01        4.96e-02        1    \n",
      "126   9.43e-05        9.79e-01        5.53e-02        1    \n",
      "127   9.24e-05        9.79e-01        4.25e-02        1    \n",
      "128   9.05e-05        9.80e-01        5.29e-02        1    \n",
      "129   8.87e-05        9.80e-01        4.37e-02        1    \n",
      "130   8.69e-05        9.80e-01        5.47e-02        1    \n",
      "131   8.51e-05        9.80e-01        4.32e-02        1    \n",
      "132   8.34e-05        9.80e-01        5.10e-02        1    \n",
      "133   8.17e-05        9.80e-01        4.37e-02        1    \n",
      "134   8.01e-05        9.80e-01        4.87e-02        1    \n"
     ]
    },
    {
     "name": "stdout",
     "output_type": "stream",
     "text": [
      "135   7.85e-05        9.80e-01        4.56e-02        1    \n",
      "136   7.69e-05        9.80e-01        5.71e-02        1    \n",
      "137   7.53e-05        9.80e-01        4.09e-02        1    \n",
      "138   7.38e-05        9.80e-01        5.83e-02        1    \n",
      "139   7.23e-05        9.80e-01        5.56e-02        1    \n",
      "140   7.08e-05        9.80e-01        5.25e-02        1    \n",
      "141   6.95e-05        9.80e-01        4.91e-02        1    \n",
      "142   6.81e-05        9.80e-01        4.95e-02        1    \n",
      "143   6.68e-05        9.80e-01        6.09e-02        1    \n",
      "144   6.55e-05        9.80e-01        5.48e-02        1    \n",
      "145   6.42e-05        9.80e-01        4.30e-02        1    \n",
      "146   6.29e-05        9.80e-01        5.10e-02        1    \n",
      "147   6.17e-05        9.80e-01        3.98e-02        1    \n",
      "148   6.05e-05        9.80e-01        5.82e-02        1    \n",
      "149   5.93e-05        9.80e-01        6.15e-02        1    \n",
      "150   5.81e-05        9.80e-01        4.75e-02        1    \n",
      "151   5.70e-05        9.80e-01        5.20e-02        1    \n",
      "152   5.59e-05        9.80e-01        5.10e-02        1    \n",
      "153   5.48e-05        9.80e-01        4.78e-02        1    \n",
      "154   5.37e-05        9.80e-01        4.83e-02        1    \n",
      "155   5.26e-05        9.80e-01        5.31e-02        1    \n",
      "156   5.16e-05        9.80e-01        4.57e-02        1    \n",
      "157   5.06e-05        9.80e-01        5.11e-02        1    \n",
      "158   4.96e-05        9.80e-01        5.52e-02        1    \n",
      "159   4.86e-05        9.80e-01        6.17e-02        1    \n",
      "160   4.76e-05        9.80e-01        4.30e-02        1    \n",
      "161   4.67e-05        9.80e-01        5.65e-02        1    \n",
      "162   4.58e-05        9.80e-01        5.44e-02        1    \n",
      "163   4.49e-05        9.80e-01        5.55e-02        1    \n",
      "164   4.40e-05        9.80e-01        4.85e-02        1    \n",
      "165   4.31e-05        9.80e-01        5.29e-02        1    \n",
      "166   4.23e-05        9.80e-01        4.28e-02        1    \n",
      "167   4.14e-05        9.80e-01        5.19e-02        1    \n",
      "168   4.06e-05        9.80e-01        4.02e-02        1    \n",
      "169   3.98e-05        9.80e-01        4.30e-02        1    \n",
      "170   3.90e-05        9.80e-01        5.11e-02        1    \n",
      "171   3.82e-05        9.80e-01        4.50e-02        1    \n",
      "172   3.75e-05        9.80e-01        5.28e-02        1    \n",
      "173   3.67e-05        9.80e-01        4.05e-02        1    \n",
      "174   3.60e-05        9.80e-01        5.81e-02        1    \n",
      "175   3.53e-05        9.80e-01        5.47e-02        1    \n",
      "176   3.46e-05        9.80e-01        5.56e-02        1    \n",
      "177   3.39e-05        9.80e-01        5.01e-02        1    \n",
      "178   3.32e-05        9.80e-01        5.33e-02        1    \n",
      "179   3.26e-05        9.80e-01        5.68e-02        1    \n",
      "180   3.19e-05        9.80e-01        4.91e-02        1    \n",
      "181   3.13e-05        9.80e-01        5.23e-02        1    \n",
      "182   3.07e-05        9.80e-01        4.28e-02        1    \n",
      "183   3.01e-05        9.80e-01        4.88e-02        1    \n",
      "184   2.95e-05        9.80e-01        4.66e-02        1    \n",
      "185   2.89e-05        9.80e-01        5.36e-02        1    \n",
      "186   2.83e-05        9.80e-01        6.27e-02        1    \n",
      "187   2.77e-05        9.80e-01        5.50e-02        1    \n",
      "188   2.72e-05        9.80e-01        4.80e-02        1    \n",
      "189   2.66e-05        9.80e-01        5.44e-02        1    \n",
      "190   2.61e-05        9.80e-01        4.31e-02        1    \n",
      "191   2.56e-05        9.80e-01        5.41e-02        1    \n",
      "192   2.51e-05        9.80e-01        4.39e-02        1    \n",
      "193   2.46e-05        9.80e-01        5.69e-02        1    \n",
      "194   2.41e-05        9.80e-01        4.90e-02        1    \n",
      "195   2.36e-05        9.80e-01        6.05e-02        1    \n",
      "196   2.31e-05        9.80e-01        5.46e-02        1    \n",
      "197   2.27e-05        9.80e-01        6.10e-02        1    \n",
      "198   2.22e-05        9.80e-01        5.18e-02        1    \n",
      "199   2.18e-05        9.80e-01        5.34e-02        1    \n",
      "200   2.13e-05        9.80e-01        5.08e-02        1    \n",
      "201   2.09e-05        9.80e-01        5.74e-02        1    \n",
      "202   2.05e-05        9.80e-01        5.47e-02        1    \n",
      "203   2.01e-05        9.80e-01        5.22e-02        1    \n",
      "204   1.97e-05        9.80e-01        5.07e-02        1    \n",
      "205   1.93e-05        9.80e-01        5.88e-02        1    \n",
      "206   1.89e-05        9.80e-01        5.17e-02        1    \n",
      "207   1.85e-05        9.80e-01        5.67e-02        1    \n",
      "208   1.81e-05        9.80e-01        5.47e-02        1    \n",
      "209   1.78e-05        9.80e-01        5.34e-02        1    \n",
      "210   1.74e-05        9.80e-01        5.61e-02        1    \n",
      "211   1.71e-05        9.80e-01        5.79e-02        1    \n",
      "212   1.67e-05        9.80e-01        4.33e-02        1    \n",
      "213   1.64e-05        9.80e-01        6.07e-02        1    \n",
      "214   1.60e-05        9.80e-01        4.89e-02        1    \n",
      "215   1.57e-05        9.80e-01        5.14e-02        1    \n",
      "216   1.54e-05        9.80e-01        5.24e-02        1    \n",
      "217   1.51e-05        9.80e-01        5.41e-02        1    \n",
      "218   1.48e-05        9.80e-01        4.39e-02        1    \n",
      "219   1.45e-05        9.80e-01        4.81e-02        1    \n",
      "220   1.42e-05        9.80e-01        5.06e-02        1    \n",
      "221   1.39e-05        9.80e-01        5.27e-02        1    \n",
      "222   1.36e-05        9.80e-01        5.37e-02        1    \n",
      "223   1.33e-05        9.80e-01        5.01e-02        1    \n",
      "224   1.31e-05        9.80e-01        5.46e-02        1    \n",
      "225   1.28e-05        9.80e-01        5.22e-02        1    \n",
      "226   1.26e-05        9.80e-01        6.52e-02        1    \n",
      "227   1.23e-05        9.80e-01        5.45e-02        1    \n",
      "228   1.20e-05        9.80e-01        4.74e-02        1    \n",
      "229   1.18e-05        9.80e-01        5.53e-02        1    \n",
      "230   1.16e-05        9.80e-01        6.19e-02        1    \n",
      "231   1.13e-05        9.80e-01        5.99e-02        1    \n",
      "232   1.11e-05        9.80e-01        4.80e-02        1    \n",
      "233   1.09e-05        9.80e-01        5.07e-02        1    \n",
      "234   1.07e-05        9.80e-01        5.18e-02        1    \n",
      "235   1.04e-05        9.80e-01        4.91e-02        1    \n",
      "236   1.02e-05        9.80e-01        4.50e-02        1    \n",
      "237   1.00e-05        9.80e-01        6.19e-02        1    \n",
      "238   9.81e-06        9.80e-01        4.90e-02        1    \n",
      "239   9.61e-06        9.80e-01        5.44e-02        1    \n",
      "240   9.42e-06        9.80e-01        5.05e-02        1    \n",
      "241   9.22e-06        9.80e-01        5.58e-02        1    \n",
      "242   9.03e-06        9.80e-01        4.51e-02        1    \n",
      "243   8.85e-06        9.80e-01        5.08e-02        1    \n",
      "244   8.67e-06        9.80e-01        5.12e-02        1    \n",
      "245   8.49e-06        9.80e-01        5.15e-02        1    \n",
      "246   8.32e-06        9.80e-01        5.22e-02        1    \n",
      "247   8.15e-06        9.80e-01        5.68e-02        1    \n",
      "248   7.98e-06        9.80e-01        4.02e-02        1    \n",
      "249   7.82e-06        9.80e-01        5.50e-02        1    \n",
      "250   7.66e-06        9.80e-01        4.95e-02        1    \n",
      "251   7.50e-06        9.80e-01        5.98e-02        1    \n",
      "252   7.35e-06        9.80e-01        5.95e-02        1    \n",
      "253   7.20e-06        9.80e-01        5.08e-02        1    \n",
      "254   7.05e-06        9.80e-01        5.66e-02        1    \n",
      "255   6.91e-06        9.80e-01        5.62e-02        1    \n",
      "256   6.76e-06        9.79e-01        5.09e-02        1    \n",
      "257   6.63e-06        9.79e-01        5.66e-02        1    \n",
      "258   6.49e-06        9.79e-01        4.61e-02        1    \n",
      "259   6.36e-06        9.79e-01        5.46e-02        1    \n",
      "260   6.23e-06        9.79e-01        5.06e-02        1    \n",
      "261   6.10e-06        9.79e-01        5.32e-02        1    \n",
      "262   5.97e-06        9.79e-01        4.40e-02        1    \n",
      "263   5.85e-06        9.79e-01        4.64e-02        1    \n",
      "264   5.73e-06        9.79e-01        4.35e-02        1    \n",
      "265   5.61e-06        9.79e-01        4.91e-02        1    \n",
      "266   5.50e-06        9.79e-01        5.99e-02        1    \n",
      "267   5.38e-06        9.79e-01        6.20e-02        1    \n",
      "268   5.27e-06        9.79e-01        5.96e-02        1    \n",
      "269   5.16e-06        9.79e-01        4.69e-02        1    \n",
      "270   5.06e-06        9.79e-01        6.00e-02        1    \n",
      "271   4.95e-06        9.79e-01        4.39e-02        1    \n",
      "272   4.85e-06        9.79e-01        6.05e-02        1    \n"
     ]
    },
    {
     "name": "stdout",
     "output_type": "stream",
     "text": [
      "273   4.75e-06        9.79e-01        5.08e-02        1    \n",
      "274   4.65e-06        9.79e-01        5.22e-02        1    \n",
      "275   4.56e-06        9.79e-01        5.42e-02        1    \n",
      "276   4.46e-06        9.79e-01        5.99e-02        1    \n",
      "277   4.37e-06        9.79e-01        4.32e-02        1    \n",
      "278   4.28e-06        9.79e-01        4.88e-02        1    \n",
      "279   4.19e-06        9.79e-01        4.33e-02        1    \n",
      "280   4.11e-06        9.79e-01        4.32e-02        1    \n",
      "281   4.02e-06        9.79e-01        5.23e-02        1    \n",
      "282   3.94e-06        9.79e-01        4.58e-02        1    \n",
      "283   3.86e-06        9.79e-01        5.70e-02        1    \n",
      "284   3.78e-06        9.79e-01        4.44e-02        1    \n",
      "285   3.70e-06        9.79e-01        5.42e-02        1    \n",
      "286   3.62e-06        9.79e-01        4.45e-02        1    \n",
      "287   3.55e-06        9.79e-01        5.13e-02        1    \n",
      "288   3.47e-06        9.79e-01        4.29e-02        1    \n",
      "289   3.40e-06        9.79e-01        5.85e-02        1    \n",
      "290   3.33e-06        9.79e-01        4.39e-02        1    \n",
      "291   3.26e-06        9.79e-01        5.63e-02        1    \n",
      "292   3.20e-06        9.79e-01        4.34e-02        1    \n",
      "293   3.13e-06        9.79e-01        5.23e-02        1    \n",
      "294   3.06e-06        9.79e-01        4.33e-02        1    \n",
      "295   3.00e-06        9.79e-01        5.72e-02        1    \n",
      "296   2.94e-06        9.79e-01        5.45e-02        1    \n",
      "297   2.88e-06        9.79e-01        5.58e-02        1    \n",
      "298   2.82e-06        9.79e-01        5.10e-02        1    \n",
      "299   2.76e-06        9.79e-01        5.90e-02        1    \n",
      "300   2.70e-06        9.79e-01        4.33e-02        1    \n",
      "301   2.65e-06        9.79e-01        5.48e-02        1    \n",
      "302   2.59e-06        9.79e-01        4.34e-02        1    \n",
      "303   2.54e-06        9.79e-01        5.02e-02        1    \n",
      "304   2.49e-06        9.79e-01        4.34e-02        1    \n",
      "305   2.43e-06        9.79e-01        5.35e-02        1    \n",
      "306   2.38e-06        9.79e-01        4.38e-02        1    \n",
      "307   2.33e-06        9.79e-01        5.69e-02        1    \n",
      "308   2.29e-06        9.79e-01        5.28e-02        1    \n",
      "309   2.24e-06        9.79e-01        6.29e-02        1    \n",
      "310   2.19e-06        9.79e-01        4.93e-02        1    \n",
      "311   2.15e-06        9.79e-01        5.20e-02        1    \n",
      "312   2.10e-06        9.79e-01        4.33e-02        1    \n",
      "313   2.06e-06        9.79e-01        5.31e-02        1    \n",
      "314   2.01e-06        9.79e-01        4.35e-02        1    \n",
      "315   1.97e-06        9.79e-01        5.37e-02        1    \n",
      "316   1.93e-06        9.79e-01        5.28e-02        1    \n",
      "317   1.89e-06        9.79e-01        5.58e-02        1    \n",
      "318   1.85e-06        9.79e-01        5.00e-02        1    \n",
      "319   1.81e-06        9.79e-01        6.56e-02        1    \n",
      "320   1.78e-06        9.79e-01        6.01e-02        1    \n",
      "321   1.74e-06        9.79e-01        6.33e-02        1    \n",
      "322   1.70e-06        9.79e-01        4.34e-02        1    \n",
      "323   1.67e-06        9.79e-01        5.45e-02        1    \n",
      "324   1.63e-06        9.79e-01        4.92e-02        1    \n",
      "325   1.60e-06        9.79e-01        5.57e-02        1    \n",
      "326   1.56e-06        9.79e-01        4.34e-02        1    \n",
      "327   1.53e-06        9.79e-01        6.30e-02        1    \n",
      "328   1.50e-06        9.79e-01        5.81e-02        1    \n",
      "329   1.47e-06        9.79e-01        5.52e-02        1    \n",
      "330   1.44e-06        9.79e-01        5.04e-02        1    \n",
      "331   1.41e-06        9.79e-01        5.71e-02        1    \n",
      "332   1.38e-06        9.79e-01        5.27e-02        1    \n",
      "333   1.35e-06        9.79e-01        5.29e-02        1    \n",
      "334   1.32e-06        9.79e-01        4.46e-02        1    \n",
      "335   1.29e-06        9.79e-01        5.34e-02        1    \n",
      "336   1.27e-06        9.79e-01        4.54e-02        1    \n",
      "337   1.24e-06        9.79e-01        6.06e-02        1    \n",
      "338   1.21e-06        9.79e-01        4.14e-02        1    \n",
      "339   1.19e-06        9.79e-01        5.80e-02        1    \n",
      "340   1.16e-06        9.79e-01        4.95e-02        1    \n",
      "341   1.14e-06        9.79e-01        5.10e-02        1    \n",
      "342   1.12e-06        9.79e-01        5.22e-02        1    \n",
      "343   1.09e-06        9.79e-01        5.69e-02        1    \n",
      "344   1.07e-06        9.79e-01        4.67e-02        1    \n",
      "345   1.05e-06        9.79e-01        5.28e-02        1    \n",
      "346   1.03e-06        9.79e-01        5.05e-02        1    \n",
      "347   1.00e-06        9.79e-01        5.74e-02        1    \n",
      "348   9.83e-07        9.79e-01        4.30e-02        1    \n",
      "349   9.63e-07        9.79e-01        5.07e-02        1    \n",
      "350   9.42e-07        9.79e-01        4.32e-02        1    \n",
      "351   9.23e-07        9.79e-01        5.41e-02        1    \n",
      "352   9.03e-07        9.79e-01        5.34e-02        1    \n",
      "353   8.85e-07        9.79e-01        5.48e-02        1    \n",
      "354   8.66e-07        9.79e-01        4.75e-02        1    \n",
      "355   8.48e-07        9.79e-01        6.28e-02        1    \n",
      "356   8.30e-07        9.79e-01        4.37e-02        1    \n",
      "357   8.13e-07        9.79e-01        5.77e-02        1    \n",
      "358   7.96e-07        9.79e-01        6.36e-02        1    \n",
      "359   7.79e-07        9.79e-01        6.30e-02        1    \n",
      "360   7.63e-07        9.79e-01        4.49e-02        1    \n",
      "361   7.47e-07        9.79e-01        5.38e-02        1    \n",
      "362   7.31e-07        9.79e-01        4.40e-02        1    \n",
      "363   7.16e-07        9.79e-01        5.76e-02        1    \n",
      "364   7.01e-07        9.79e-01        4.75e-02        1    \n",
      "365   6.86e-07        9.79e-01        5.65e-02        1    \n",
      "366   6.72e-07        9.79e-01        5.60e-02        1    \n",
      "367   6.57e-07        9.79e-01        5.72e-02        1    \n",
      "368   6.44e-07        9.79e-01        4.90e-02        1    \n",
      "369   6.30e-07        9.79e-01        5.26e-02        1    \n",
      "370   6.17e-07        9.79e-01        4.37e-02        1    \n",
      "371   6.04e-07        9.79e-01        5.63e-02        1    \n",
      "372   5.91e-07        9.79e-01        4.35e-02        1    \n",
      "373   5.79e-07        9.79e-01        5.28e-02        1    \n",
      "374   5.67e-07        9.79e-01        4.06e-02        1    \n",
      "375   5.55e-07        9.79e-01        5.00e-02        1    \n",
      "376   5.43e-07        9.79e-01        4.34e-02        1    \n",
      "377   5.32e-07        9.79e-01        5.11e-02        1    \n",
      "378   5.21e-07        9.79e-01        5.60e-02        1    \n",
      "379   5.10e-07        9.79e-01        4.17e-02        1    \n",
      "380   4.99e-07        9.79e-01        5.20e-02        1    \n",
      "381   4.88e-07        9.79e-01        4.35e-02        1    \n",
      "382   4.78e-07        9.79e-01        5.18e-02        1    \n",
      "383   4.68e-07        9.79e-01        4.46e-02        1    \n",
      "384   4.58e-07        9.79e-01        5.34e-02        1    \n",
      "385   4.49e-07        9.79e-01        4.54e-02        1    \n",
      "386   0.00e+00        0.00e+00        1.72e-02        0    \n",
      "------------------------------------------------------------------\n",
      " 24.947512 seconds (284.57 M allocations: 25.760 GB, 14.57% gc time)\n",
      "------------------------------------------------------------------\n",
      "It    ηₙ=|xₙ-xₙ₋₁|    λₙ=ηₙ/ηₙ₋₁      Time            Newton steps\n",
      "------------------------------------------------------------------\n",
      "0     NaN             NaN             0.00e+00        0    \n",
      "1     0.00e+00        NaN             2.03e-02        0    \n",
      "------------------------------------------------------------------\n",
      "  1.143689 seconds (1.52 M allocations: 61.214 MB, 1.82% gc time)\n"
     ]
    },
    {
     "data": {
      "text/plain": [
       "Results of Time Iteration Algorithm\n",
       " * Complementarities: true\n",
       " * Discretized Process type: Dolo.DiscreteMarkovProcess\n",
       " * Decision Rule type: Dolo.DecisionRule{Dolo.UnstructuredGrid,Dolo.CartesianGrid}\n",
       " * Number of iterations: 1\n",
       " * Convergence: true\n",
       "   * |x - x'| < 1.0e-07: true\n"
      ]
     },
     "execution_count": 58,
     "metadata": {},
     "output_type": "execute_result"
    }
   ],
   "source": [
    "@time sol=Dolo.time_iteration(model, verbose=true, maxit=1000)\n",
    "dr=sol.dr\n",
    "@time res = Dolo.time_iteration(model, dr; maxit=200)"
   ]
  },
  {
   "cell_type": "markdown",
   "metadata": {},
   "source": [
    "Let's look at some consumption policy functions."
   ]
  },
  {
   "cell_type": "code",
   "execution_count": 61,
   "metadata": {},
   "outputs": [
    {
     "data": {
      "text/plain": [
       "27×3 Array{Float64,2}:\n",
       " -0.0848953  0.0  1.0\n",
       "  0.0        0.0  1.0\n",
       "  0.0848953  0.0  1.0\n",
       " -0.0848953  1.0  0.0\n",
       "  0.0        1.0  0.0\n",
       "  0.0848953  1.0  0.0\n",
       " -0.0848953  2.0  0.0\n",
       "  0.0        2.0  0.0\n",
       "  0.0848953  2.0  0.0\n",
       " -0.0848953  3.0  0.0\n",
       "  0.0        3.0  0.0\n",
       "  0.0848953  3.0  0.0\n",
       " -0.0848953  4.0  0.0\n",
       "  ⋮                  \n",
       " -0.0848953  5.0  0.0\n",
       "  0.0        5.0  0.0\n",
       "  0.0848953  5.0  0.0\n",
       " -0.0848953  6.0  0.0\n",
       "  0.0        6.0  0.0\n",
       "  0.0848953  6.0  0.0\n",
       " -0.0848953  7.0  0.0\n",
       "  0.0        7.0  0.0\n",
       "  0.0848953  7.0  0.0\n",
       " -0.0848953  8.0  0.0\n",
       "  0.0        8.0  0.0\n",
       "  0.0848953  8.0  0.0"
      ]
     },
     "execution_count": 61,
     "metadata": {},
     "output_type": "execute_result"
    }
   ],
   "source": [
    "dp.values"
   ]
  },
  {
   "cell_type": "code",
   "execution_count": 66,
   "metadata": {},
   "outputs": [],
   "source": [
    "\n",
    "drtab = Dolo.tabulate(model, dr, :s) \n",
    "\n",
    "# First we have to get the policy functions \n",
    "s0 = model.calibration[:states]\n",
    "#num_ages= 8 # number of ages  + 1 for death state\n",
    "#y_states=[num_ages*n-(num_ages-1) for n in 1:5]\n",
    "#num_yplots=length(y_states)\n",
    "dr_ylist=[Dolo.tabulate(model, dr, :s, s0,  y) for y in 4:6]\n",
    "ygrid=dp.values[1:3,1]\n",
    "r=model.calibration.flat[:r]\n",
    "#num_yplots=3\n",
    "#ygrid=\n",
    "#ygrid=[Dolo.node(model.exogenous,num_ages*i-(num_ages-1))[1] for i in 1:6]\n",
    "c_ylist=[exp(ygrid[y])+dr_ylist[y][:s]*r-dr_ylist[y][Axis{:V}(:a)] for y in 1:3];"
   ]
  },
  {
   "cell_type": "code",
   "execution_count": 7,
   "metadata": {},
   "outputs": [
    {
     "data": {
      "text/html": [
       "1.0"
      ],
      "text/plain": [
       "1.0"
      ]
     },
     "execution_count": 7,
     "metadata": {},
     "output_type": "execute_result"
    }
   ],
   "source": [
    "exp(ygrid[2])"
   ]
  },
  {
   "cell_type": "code",
   "execution_count": 67,
   "metadata": {},
   "outputs": [
    {
     "data": {
      "image/png": "[encoded data removed]",
      "text/plain": [
       "PyPlot.Figure(PyObject <matplotlib.figure.Figure object at 0x000000001B4C7B70>)"
      ]
     },
     "metadata": {},
     "output_type": "display_data"
    },
    {
     "data": {
      "text/plain": [
       "PyObject <matplotlib.text.Text object at 0x000000001B3D7A58>"
      ]
     },
     "execution_count": 67,
     "metadata": {},
     "output_type": "execute_result"
    }
   ],
   "source": [
    "# Plot the consumption policy function across different income levels for age 1\n",
    "import PyPlot\n",
    "plt=PyPlot\n",
    "end_y=10\n",
    "\n",
    "for i=1:3\n",
    "    plt.plot(dr_ylist[i][Axis{:V}(:s)][1:end_y],c_ylist[i][1:end_y], label=i)\n",
    "end\n",
    "\n",
    "plt.legend()\n",
    "plt.xlabel(\"Savings\")\n",
    "plt.ylabel(\"Consumption\")\n",
    "plt.title(\"Consumption Policy Function across different income levels\")"
   ]
  },
  {
   "cell_type": "code",
   "execution_count": null,
   "metadata": {},
   "outputs": [],
   "source": [
    "# Plot consumption policy function with different ages (income level 2)\n",
    "inc_level=2\n",
    "a_states=convert(Vector{Int64},linspace(10,15,6))\n",
    "num_aplots=length(a_states)\n",
    "dr_alist=[Dolo.tabulate(model, dr, :s, s0, a) for a in a_states]\n",
    "c_alist=[exp(ygrid[inc_level])+dr_alist[a][:s]*r-dr_alist[a][Axis{:V}(:a)] for a in 1:num_aplots];\n",
    "\n",
    "for i=1:num_aplots\n",
    "    plt.plot(dr_alist[i][Axis{:V}(:s)][1:end_y],c_alist[i][1:end_y], label=i)\n",
    "end\n",
    "\n",
    "plt.xlabel(\"Savings\")\n",
    "plt.ylabel(\"Consumption\")\n",
    "plt.title(\"Consumption Policy Function across different Ages\")"
   ]
  },
  {
   "cell_type": "markdown",
   "metadata": {},
   "source": [
    "Simulate the model."
   ]
  },
  {
   "cell_type": "code",
   "execution_count": null,
   "metadata": {
    "collapsed": true
   },
   "outputs": [],
   "source": [
    "T=10\n",
    "hor=linspace(1,T,T)\n",
    "mc_ar=model.exogenous\n",
    "sim_armc = Dolo.simulate(model,dr,mc_ar;N=100,T=10);\n"
   ]
  },
  {
   "cell_type": "markdown",
   "metadata": {},
   "source": [
    " Set-up the life-status and earnings path for the agents"
   ]
  },
  {
   "cell_type": "code",
   "execution_count": null,
   "metadata": {
    "collapsed": true
   },
   "outputs": [],
   "source": [
    "N=100\n",
    "T=10\n",
    "\n",
    "life_grid=ones(num_ages)\n",
    "life_grid[num_ages]=0.0\n",
    "income_path=zeros(T,N)\n",
    "life_status=zeros(T,N)\n",
    "age_status=zeros(T,N)\n",
    "Tot_states=54.0 #(9 ages * 6 income states)\n",
    "for j=1:N\n",
    "    for i=1:T\n",
    "       state=convert(Int64,sim_armc[Axis{:N}(j), Axis{:V}(:mc_process)][i])\n",
    "       state_y,state_a=Dolo.node(model.exogenous,state)\n",
    "       income_path[i,j]=exp(state_y)\n",
    "       life_status[i,j]=state_a\n",
    "    end\n",
    "end"
   ]
  },
  {
   "cell_type": "markdown",
   "metadata": {},
   "source": [
    "Plot the life-cycle consumption and income profile for one agent."
   ]
  },
  {
   "cell_type": "code",
   "execution_count": null,
   "metadata": {},
   "outputs": [],
   "source": [
    "# Pick an agent from the simulation: \n",
    "import PyPlot\n",
    "plt=PyPlot\n",
    "j=9\n",
    "t_death=maximum(find(life_status[:,j]))\n",
    "horizon=t_death-2\n",
    "hor_alive=linspace(1,horizon,horizon)\n",
    "\n",
    "c=(income_path[1:horizon,j]+sim_armc[Axis{:N}(j), Axis{:V}(:s)][1:horizon]*r-sim_armc[Axis{:N}(j), Axis{:V}(:a)][1:horizon]).*life_status[1:horizon,j]\n",
    "plt.plot(hor_alive, income_path[1:horizon,j].*life_status[1:horizon,j], color=\"blue\", alpha=0.35, label=\"income\")\n",
    "plt.plot(hor_alive, c, color=\"green\",label=\"consumption\")\n",
    "plt.legend()\n",
    "plt.xlabel(\"Time Period\")\n",
    "plt.title(\"Simulated Paths for Consumption and Income\")"
   ]
  }
 ],
 "metadata": {
  "kernelspec": {
   "display_name": "Julia 0.5.2",
   "language": "julia",
   "name": "julia-0.5"
  },
  "language_info": {
   "file_extension": ".jl",
   "mimetype": "application/julia",
   "name": "julia",
   "version": "0.5.2"
  }
 },
 "nbformat": 4,
 "nbformat_minor": 2
}
