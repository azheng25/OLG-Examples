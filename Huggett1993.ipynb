{
 "cells": [
  {
   "cell_type": "markdown",
   "metadata": {
    "deletable": true,
    "editable": true
   },
   "source": [
    "# This notebook solves the Huggett Model (1993) using Dolo."
   ]
  },
  {
   "cell_type": "code",
   "execution_count": 1,
   "metadata": {
    "collapsed": false,
    "deletable": true,
    "editable": true
   },
   "outputs": [
    {
     "name": "stderr",
     "output_type": "stream",
     "text": [
      "\u001b[1m\u001b[31mWARNING: Using Calculus.jl for symbolic differentiation. This will be slower than SymEngine.jl\n",
      ". To use SymEngine call Pkg.add(\"SymEngine\")\u001b[0m\n"
     ]
    }
   ],
   "source": [
    "# First import the packages\n",
    "Pkg.dir(\"Dolo\")\n",
    "import Dolo\n",
    "using AxisArrays\n",
    "using PyPlot"
   ]
  },
  {
   "cell_type": "code",
   "execution_count": 2,
   "metadata": {
    "collapsed": false,
    "deletable": true,
    "editable": true
   },
   "outputs": [
    {
     "data": {
      "text/plain": [
       "\"huggett_1993.yaml\""
      ]
     },
     "execution_count": 2,
     "metadata": {},
     "output_type": "execute_result"
    }
   ],
   "source": [
    "# get the model file\n",
    "filename=(\"huggett_1993.yaml\")"
   ]
  },
  {
   "cell_type": "code",
   "execution_count": 10,
   "metadata": {
    "collapsed": false,
    "deletable": true,
    "editable": true
   },
   "outputs": [
    {
     "name": "stdout",
     "output_type": "stream",
     "text": [
      "Model \n"
     ]
    },
    {
     "ename": "MethodError",
     "evalue": "MethodError: no method matching sanitize(::Expr, ::Dolo.Model{Symbol(\"##379\")})\u001b[0m\nClosest candidates are:\n  sanitize(::Expr, \u001b[1m\u001b[31m::Array{Symbol,1}\u001b[0m) at C:\\Users\\Angela\\AppData\\Local\\JuliaPro-0.5.1.1\\pkgs-0.5.1.1\\v0.5\\Dolo\\src\\printing.jl:14\n  sanitize(::Any, \u001b[1m\u001b[31m::Array{Symbol,1}\u001b[0m) at C:\\Users\\Angela\\AppData\\Local\\JuliaPro-0.5.1.1\\pkgs-0.5.1.1\\v0.5\\Dolo\\src\\printing.jl:3\n  sanitize(::Any, \u001b[1m\u001b[31m::Dolo.SModel{ID}\u001b[0m) at C:\\Users\\Angela\\AppData\\Local\\JuliaPro-0.5.1.1\\pkgs-0.5.1.1\\v0.5\\Dolo\\src\\printing.jl:32\u001b[0m",
     "output_type": "error",
     "traceback": [
      "MethodError: no method matching sanitize(::Expr, ::Dolo.Model{Symbol(\"##379\")})\u001b[0m\nClosest candidates are:\n  sanitize(::Expr, \u001b[1m\u001b[31m::Array{Symbol,1}\u001b[0m) at C:\\Users\\Angela\\AppData\\Local\\JuliaPro-0.5.1.1\\pkgs-0.5.1.1\\v0.5\\Dolo\\src\\printing.jl:14\n  sanitize(::Any, \u001b[1m\u001b[31m::Array{Symbol,1}\u001b[0m) at C:\\Users\\Angela\\AppData\\Local\\JuliaPro-0.5.1.1\\pkgs-0.5.1.1\\v0.5\\Dolo\\src\\printing.jl:3\n  sanitize(::Any, \u001b[1m\u001b[31m::Dolo.SModel{ID}\u001b[0m) at C:\\Users\\Angela\\AppData\\Local\\JuliaPro-0.5.1.1\\pkgs-0.5.1.1\\v0.5\\Dolo\\src\\printing.jl:32\u001b[0m",
      "",
      " in show(::IOContext{Base.AbstractIOBuffer{Array{UInt8,1}}}, ::MIME{Symbol(\"text/html\")}, ::Dolo.Model{Symbol(\"##379\")}) at C:\\Users\\Angela\\AppData\\Local\\JuliaPro-0.5.1.1\\pkgs-0.5.1.1\\v0.5\\Dolo\\src\\printing.jl:75",
      " in limitstringmime(::MIME{Symbol(\"text/html\")}, ::Dolo.Model{Symbol(\"##379\")}) at C:\\Users\\Angela\\AppData\\Local\\JuliaPro-0.5.1.1\\pkgs-0.5.1.1\\v0.5\\IJulia\\src\\inline.jl:25",
      " in display_dict(::Dolo.Model{Symbol(\"##379\")}) at C:\\Users\\Angela\\AppData\\Local\\JuliaPro-0.5.1.1\\pkgs-0.5.1.1\\v0.5\\IJulia\\src\\execute_request.jl:40",
      " in execute_request(::ZMQ.Socket, ::IJulia.Msg) at C:\\Users\\Angela\\AppData\\Local\\JuliaPro-0.5.1.1\\pkgs-0.5.1.1\\v0.5\\IJulia\\src\\execute_request.jl:188",
      " in eventloop(::ZMQ.Socket) at C:\\Users\\Angela\\AppData\\Local\\JuliaPro-0.5.1.1\\pkgs-0.5.1.1\\v0.5\\IJulia\\src\\eventloop.jl:8",
      " in (::IJulia.##13#19)() at .\\task.jl:360"
     ]
    }
   ],
   "source": [
    "# Convert the file into Dolo model\n",
    "model=Dolo.yaml_import(filename)"
   ]
  },
  {
   "cell_type": "markdown",
   "metadata": {
    "deletable": true,
    "editable": true
   },
   "source": [
    "Now let's look at solving the model. We will use Dolo's time iteration function (which iterates on the residuals of the arbitrage equation)."
   ]
  },
  {
   "cell_type": "code",
   "execution_count": 11,
   "metadata": {
    "collapsed": false,
    "deletable": true,
    "editable": true
   },
   "outputs": [
    {
     "name": "stdout",
     "output_type": "stream",
     "text": [
      "It    SA          gain        nit  \n",
      "-----------------------------------\n",
      "0     4.08e-02    NaN         0    \n",
      "1     2.03e-02    4.97e-01    2    \n",
      "2     1.99e-02    9.84e-01    2    \n",
      "3     1.98e-02    9.92e-01    2    \n",
      "4     1.97e-02    9.98e-01    2    \n",
      "5     1.98e-02    1.00e+00    2    \n",
      "6     1.98e-02    1.00e+00    2    \n",
      "7     1.97e-02    9.95e-01    2    \n",
      "8     1.94e-02    9.84e-01    2    \n",
      "9     1.94e-02    1.00e+00    2    \n",
      "10    1.97e-02    1.02e+00    2    \n",
      "11    2.00e-02    1.01e+00    2    \n",
      "12    2.01e-02    1.00e+00    2    \n",
      "13    1.98e-02    9.86e-01    2    \n",
      "14    2.03e-02    1.02e+00    2    \n",
      "15    2.07e-02    1.02e+00    2    \n",
      "16    2.09e-02    1.01e+00    2    \n",
      "17    2.08e-02    9.95e-01    2    \n",
      "18    2.14e-02    1.03e+00    2    \n",
      "19    2.18e-02    1.02e+00    2    \n",
      "20    2.16e-02    9.93e-01    2    \n",
      "21    2.23e-02    1.03e+00    2    \n",
      "22    2.26e-02    1.01e+00    2    \n",
      "23    2.28e-02    1.01e+00    2    \n",
      "24    2.34e-02    1.03e+00    2    \n",
      "25    2.34e-02    1.00e+00    2    \n",
      "26    2.41e-02    1.03e+00    2    \n",
      "27    2.43e-02    1.01e+00    2    \n",
      "28    2.49e-02    1.02e+00    2    \n",
      "29    2.52e-02    1.01e+00    2    \n",
      "30    2.57e-02    1.02e+00    2    \n",
      "31    2.60e-02    1.01e+00    2    \n",
      "32    2.66e-02    1.02e+00    2    \n",
      "33    2.68e-02    1.01e+00    2    \n",
      "34    2.74e-02    1.02e+00    2    \n",
      "35    2.78e-02    1.01e+00    2    \n",
      "36    2.83e-02    1.02e+00    2    \n",
      "37    2.89e-02    1.02e+00    2    \n",
      "38    2.92e-02    1.01e+00    2    \n",
      "39    2.98e-02    1.02e+00    2    \n",
      "40    3.03e-02    1.02e+00    2    \n",
      "41    3.09e-02    1.02e+00    2    \n",
      "42    3.12e-02    1.01e+00    2    \n",
      "43    3.18e-02    1.02e+00    2    \n",
      "44    3.25e-02    1.02e+00    2    \n",
      "45    3.00e-02    9.24e-01    2    \n",
      "46    2.20e-02    7.32e-01    2    \n",
      "47    1.30e-02    5.92e-01    2    \n",
      "48    6.76e-03    5.19e-01    2    \n",
      "49    3.38e-03    5.00e-01    2    \n",
      "50    1.74e-03    5.16e-01    1    \n",
      "51    9.57e-04    5.50e-01    1    \n",
      "52    5.70e-04    5.96e-01    1    \n",
      "53    3.69e-04    6.47e-01    1    \n",
      "54    2.55e-04    6.93e-01    1    \n",
      "55    1.85e-04    7.26e-01    1    \n",
      "56    1.38e-04    7.46e-01    1    \n",
      "57    1.04e-04    7.56e-01    1    \n",
      "58    7.92e-05    7.58e-01    1    \n",
      "59    5.99e-05    7.56e-01    1    \n",
      "60    4.51e-05    7.53e-01    1    \n",
      "61    3.38e-05    7.50e-01    1    \n",
      "62    2.52e-05    7.46e-01    1    \n",
      "63    1.88e-05    7.44e-01    1    \n",
      "64    1.39e-05    7.42e-01    1    \n",
      "65    1.03e-05    7.41e-01    1    \n",
      "66    7.63e-06    7.40e-01    1    \n",
      "67    5.65e-06    7.40e-01    1    \n",
      "68    4.19e-06    7.41e-01    1    \n",
      "69    3.10e-06    7.41e-01    1    \n",
      "70    2.30e-06    7.42e-01    1    \n",
      "71    1.71e-06    7.43e-01    1    \n",
      "72    1.27e-06    7.43e-01    1    \n",
      "73    0.00e+00    0.00e+00    0    \n",
      "  2.586264 seconds (5.96 M allocations: 435.299 MB, 3.58% gc time)\n",
      "It    SA          gain        nit  \n",
      "-----------------------------------\n",
      "0     4.08e-02    NaN         0    \n",
      "1     0.00e+00    0.00e+00    0    \n",
      "  0.675412 seconds (459.55 k allocations: 18.335 MB, 1.02% gc time)\n"
     ]
    },
    {
     "data": {
      "text/plain": [
       "Results of Time Iteration Algorithm\n",
       " * Complementarities: true\n",
       " * Decision Rule type: Dolo.TimeIterationResult\n",
       " * Number of iterations: 1\n",
       " * Convergence: true\n",
       "   * |x - x'| < 1.0e-08: true\n"
      ]
     },
     "execution_count": 11,
     "metadata": {},
     "output_type": "execute_result"
    }
   ],
   "source": [
    "@time sol=Dolo.time_iteration(model,verbose=true, maxit=1000, details=true)\n",
    "dr=sol.dr\n",
    "@time res = Dolo.time_iteration(model, dr; maxit=200, details=true)"
   ]
  },
  {
   "cell_type": "markdown",
   "metadata": {
    "deletable": true,
    "editable": true
   },
   "source": [
    "Dolo tabulate gives us the decision rules."
   ]
  },
  {
   "cell_type": "code",
   "execution_count": 12,
   "metadata": {
    "collapsed": false,
    "deletable": true,
    "editable": true
   },
   "outputs": [
    {
     "data": {
      "text/plain": [
       "2-dimensional AxisArray{Float64,2,...} with axes:\n",
       "    :V, Symbol[:lny,:s,:a]\n",
       "    :s, [-2.0,-1.77778,-1.55556,-1.33333,-1.11111,-0.888889,-0.666667,-0.444444,-0.222222,0.0  …  18.0,18.2222,18.4444,18.6667,18.8889,19.1111,19.3333,19.5556,19.7778,20.0]\n",
       "And data, a 3×100 Array{Float64,2}:\n",
       "  0.0   0.0         0.0         0.0        …   0.0       0.0      0.0   \n",
       " -2.0  -1.77778    -1.55556    -1.33333       19.5556   19.7778  20.0   \n",
       "  0.0  -0.0311888  -0.0618873  -0.0916056     -1.01499  -1.0216  -1.0282"
      ]
     },
     "execution_count": 12,
     "metadata": {},
     "output_type": "execute_result"
    }
   ],
   "source": [
    "drtab = Dolo.tabulate(model, dr, :s) "
   ]
  },
  {
   "cell_type": "code",
   "execution_count": 6,
   "metadata": {
    "collapsed": false,
    "deletable": true,
    "editable": true
   },
   "outputs": [
    {
     "data": {
      "image/png": "[encoded data removed]",
      "text/plain": [
       "PyPlot.Figure(PyObject <matplotlib.figure.Figure object at 0x000000001B762C18>)"
      ]
     },
     "metadata": {},
     "output_type": "display_data"
    },
    {
     "data": {
      "text/plain": [
       "PyObject <matplotlib.text.Text object at 0x00000000048F2198>"
      ]
     },
     "execution_count": 6,
     "metadata": {},
     "output_type": "execute_result"
    }
   ],
   "source": [
    "# Plot the consumption policy function\n",
    "import PyPlot\n",
    "plt=PyPlot\n",
    "r=0.00002\n",
    "c=exp(drtab[Axis{:V}(:lny)])+drtab[:s]*r-drtab[Axis{:V}(:a)]\n",
    "\n",
    "plt.plot(drtab[Axis{:V}(:s)],c, color=\"blue\")\n",
    "plt.xlabel(\"Savings\")\n",
    "plt.ylabel(\"Consumption\")\n",
    "plt.title(\"Consumption Policy Function\")"
   ]
  },
  {
   "cell_type": "markdown",
   "metadata": {
    "deletable": true,
    "editable": true
   },
   "source": [
    "### Simulations"
   ]
  },
  {
   "cell_type": "markdown",
   "metadata": {
    "deletable": true,
    "editable": true
   },
   "source": [
    "Here are plots for the simulations. We see that the agent's consumption is equal to his income, as to be expected, since we are in a one-agent economy."
   ]
  },
  {
   "cell_type": "code",
   "execution_count": 7,
   "metadata": {
    "collapsed": false,
    "deletable": true,
    "editable": true
   },
   "outputs": [
    {
     "data": {
      "text/html": [
       "200"
      ],
      "text/plain": [
       "200"
      ]
     },
     "execution_count": 7,
     "metadata": {},
     "output_type": "execute_result"
    }
   ],
   "source": [
    "# Simulations\n",
    "import PyPlot\n",
    "plt=PyPlot\n",
    "\n",
    "\n",
    "mc_ar=model.exogenous\n",
    "\n",
    "sim_armc = Dolo.simulate(model,dr;N=1000,T=200)\n",
    "\n",
    "\n",
    "T=200"
   ]
  },
  {
   "cell_type": "code",
   "execution_count": 14,
   "metadata": {
    "collapsed": false,
    "deletable": true,
    "editable": true
   },
   "outputs": [
    {
     "data": {
      "image/png": "[encoded data removed]",
      "text/plain": [
       "PyPlot.Figure(PyObject <matplotlib.figure.Figure object at 0x0000000024FA16D8>)"
      ]
     },
     "metadata": {},
     "output_type": "display_data"
    },
    {
     "name": "stderr",
     "output_type": "stream",
     "text": [
      "WARNING: Method definition plot_simulations(Int64, Int64, Int64, Any) in module Main at In[13]:5 overwritten at In[14]:5.\n"
     ]
    }
   ],
   "source": [
    "N=1000\n",
    "n=200 # number of periods to plot\n",
    "hor=linspace(1,n,n)\n",
    "function plot_simulations(N::Int64,T::Int64,n::Int64,sim_armc)\n",
    "    sum_assets=0.0\n",
    "    for ii=1:N # number of simulations\n",
    "      c=exp(sim_armc[Axis{:N}(ii), Axis{:V}(:lny)])[T-n+1:T]+sim_armc[Axis{:N}(ii), Axis{:V}(:s)][T-n+1:T]*r-sim_armc[Axis{:N}(ii), Axis{:V}(:a)][T-n+1:T]\n",
    "      #plt.plot(hor, exp(sim_armc[Axis{:N}(ii), Axis{:V}(:lny)])[T-n+1:T],color=\"blue\", alpha=0.35, label=\"income\")\n",
    "      #assets=exp(sim_armc[Axis{:N}(ii), Axis{:V}(:lny)])[T-n+1:T]-c\n",
    "      #plt.plot(hor, exp(sim_armc[Axis{:N}(ii), Axis{:V}(:lny)])[T-n+1:T])\n",
    "      #plt.plot(hor, c)  \n",
    "        savings_end=exp(sim_armc[Axis{:N}(ii), Axis{:V}(:lny)])[T]-c[end]\n",
    "      plt.plot(hor,exp(sim_armc[Axis{:N}(ii), Axis{:V}(:lny)])[T-n+1:T]-c )\n",
    "      sum_assets=sum_assets+savings_end\n",
    "    \n",
    "    end\n",
    "    plt.legend()\n",
    "    plt.xlabel(\"Time Period\")\n",
    "    plt.title(\"Simulated Paths for Assets\")\n",
    "    \n",
    "    return sum_assets\n",
    "end\n",
    "\n",
    "\n",
    "sum_assets=plot_simulations(N,T,n,sim_armc);\n"
   ]
  },
  {
   "cell_type": "markdown",
   "metadata": {
    "deletable": true,
    "editable": true
   },
   "source": [
    "We see that the average asset holdings is almost zero so we have market clearing."
   ]
  },
  {
   "cell_type": "code",
   "execution_count": 9,
   "metadata": {
    "collapsed": false,
    "deletable": true,
    "editable": true
   },
   "outputs": [
    {
     "name": "stdout",
     "output_type": "stream",
     "text": [
      "The average asset holdings is 3.9999999971947695e-5\n"
     ]
    }
   ],
   "source": [
    "println(\"The average asset holdings is \", sum_assets/N)"
   ]
  }
 ],
 "metadata": {
  "kernelspec": {
   "display_name": "Julia 0.5.1",
   "language": "julia",
   "name": "julia-0.5"
  },
  "language_info": {
   "file_extension": ".jl",
   "mimetype": "application/julia",
   "name": "julia",
   "version": "0.5.1"
  }
 },
 "nbformat": 4,
 "nbformat_minor": 2
}
